{
 "cells": [
  {
   "cell_type": "markdown",
   "metadata": {},
   "source": [
    "## The draining cup problem"
   ]
  },
  {
   "cell_type": "markdown",
   "metadata": {},
   "source": [
    "In this notebook we will be modelling a draining cup. We assume the cup is shaped like a [conical frustrum](http://mathworld.wolfram.com/ConicalFrustum.html) or truncated cone:\n",
    "\n",
    "![](cup.png)\n",
    "\n",
    "$D$ and $d$ are the top and bottom diameters of the cup, $H$ is the side length between the diameters, $d_h$ is the hole diameter. We also define $H'$ as the vertical height of the cup and $h$ as the vertical height (or level) of the liquid in the cup"
   ]
  },
  {
   "cell_type": "markdown",
   "metadata": {},
   "source": [
    "### Volume-height relationship"
   ]
  },
  {
   "cell_type": "markdown",
   "metadata": {},
   "source": [
    "Let's work out the relationship between the volume of water and the level in the cup by integrating the area:\n",
    "\n",
    "$$V = \\int_0^h A(h) dh$$"
   ]
  },
  {
   "cell_type": "code",
   "execution_count": null,
   "metadata": {},
   "outputs": [],
   "source": [
    "import sympy\n",
    "import numpy as np\n",
    "from matplotlib import pyplot as plt\n",
    "import scipy.integrate\n",
    "sympy.init_printing()"
   ]
  },
  {
   "cell_type": "code",
   "execution_count": null,
   "metadata": {},
   "outputs": [],
   "source": [
    "h, H, d,D = sympy.symbols('h, H, d,D')"
   ]
  },
  {
   "cell_type": "code",
   "execution_count": null,
   "metadata": {},
   "outputs": [],
   "source": [
    "r = d/2\n",
    "R = D/2\n",
    "Hprime = sympy.sqrt(H**2 - (R - r)**2)\n",
    "Hprime"
   ]
  },
  {
   "cell_type": "code",
   "execution_count": null,
   "metadata": {},
   "outputs": [],
   "source": [
    "radius = r + h/Hprime*(R - r)"
   ]
  },
  {
   "cell_type": "code",
   "execution_count": 5,
   "metadata": {},
   "outputs": [
    {
     "data": {
      "image/png": "[encoded data removed]",
      "text/latex": [
       "$\\displaystyle \\frac{d}{2} + \\frac{h \\left(\\frac{D}{2} - \\frac{d}{2}\\right)}{\\sqrt{H^{2} - \\left(\\frac{D}{2} - \\frac{d}{2}\\right)^{2}}}$"
      ],
      "text/plain": [
       "           ⎛D   d⎞      \n",
       "         h⋅⎜─ - ─⎟      \n",
       "d          ⎝2   2⎠      \n",
       "─ + ────────────────────\n",
       "2        _______________\n",
       "        ╱             2 \n",
       "       ╱   2   ⎛D   d⎞  \n",
       "      ╱   H  - ⎜─ - ─⎟  \n",
       "    ╲╱         ⎝2   2⎠  "
      ]
     },
     "execution_count": 5,
     "metadata": {},
     "output_type": "execute_result"
    }
   ],
   "source": [
    "radius"
   ]
  },
  {
   "cell_type": "code",
   "execution_count": 6,
   "metadata": {},
   "outputs": [
    {
     "data": {
      "image/png": "[encoded data removed]",
      "text/latex": [
       "$\\displaystyle \\pi \\left(\\frac{d}{2} + \\frac{h \\left(\\frac{D}{2} - \\frac{d}{2}\\right)}{\\sqrt{H^{2} - \\left(\\frac{D}{2} - \\frac{d}{2}\\right)^{2}}}\\right)^{2}$"
      ],
      "text/plain": [
       "                            2\n",
       "  ⎛           ⎛D   d⎞      ⎞ \n",
       "  ⎜         h⋅⎜─ - ─⎟      ⎟ \n",
       "  ⎜d          ⎝2   2⎠      ⎟ \n",
       "π⋅⎜─ + ────────────────────⎟ \n",
       "  ⎜2        _______________⎟ \n",
       "  ⎜        ╱             2 ⎟ \n",
       "  ⎜       ╱   2   ⎛D   d⎞  ⎟ \n",
       "  ⎜      ╱   H  - ⎜─ - ─⎟  ⎟ \n",
       "  ⎝    ╲╱         ⎝2   2⎠  ⎠ "
      ]
     },
     "execution_count": 6,
     "metadata": {},
     "output_type": "execute_result"
    }
   ],
   "source": [
    "A = sympy.pi*radius**2\n",
    "A"
   ]
  },
  {
   "cell_type": "code",
   "execution_count": 9,
   "metadata": {},
   "outputs": [
    {
     "data": {
      "image/png": "[encoded data removed]",
      "text/latex": [
       "$\\displaystyle \\frac{\\pi d^{2} h}{4} - \\frac{h^{3} \\left(\\pi D^{2} - 2 \\pi D d + \\pi d^{2}\\right)}{3 D^{2} - 6 D d - 12 H^{2} + 3 d^{2}} - \\frac{h^{2} \\left(- \\pi D d + \\pi d^{2}\\right)}{2 \\sqrt{- D^{2} + 2 D d + 4 H^{2} - d^{2}}}$"
      ],
      "text/plain": [
       "   2       3 ⎛   2                2⎞           2 ⎛            2⎞      \n",
       "π⋅d ⋅h    h ⋅⎝π⋅D  - 2⋅π⋅D⋅d + π⋅d ⎠          h ⋅⎝-π⋅D⋅d + π⋅d ⎠      \n",
       "────── - ─────────────────────────── - ───────────────────────────────\n",
       "  4         2               2      2        __________________________\n",
       "         3⋅D  - 6⋅D⋅d - 12⋅H  + 3⋅d        ╱    2              2    2 \n",
       "                                       2⋅╲╱  - D  + 2⋅D⋅d + 4⋅H  - d  "
      ]
     },
     "execution_count": 9,
     "metadata": {},
     "output_type": "execute_result"
    }
   ],
   "source": [
    "V = sympy.integrate(A,(h,0,h))\n",
    "V"
   ]
  },
  {
   "cell_type": "markdown",
   "metadata": {},
   "source": [
    "$$\\frac{dV}{dt} = -F_{out}$$\n",
    "$$F_{out} = k * h$$\n",
    "$$h = f(V)$$"
   ]
  },
  {
   "cell_type": "code",
   "execution_count": null,
   "metadata": {},
   "outputs": [],
   "source": [
    "# Vsymbol = sympy.Symbol('V')\n",
    "\n",
    "# h_func = sympy.solve(V - Vsymbol,h)[0]"
   ]
  },
  {
   "cell_type": "code",
   "execution_count": 10,
   "metadata": {},
   "outputs": [],
   "source": [
    "Vfunc = sympy.lambdify([h,H,d,D],V)"
   ]
  },
  {
   "cell_type": "code",
   "execution_count": 13,
   "metadata": {},
   "outputs": [
    {
     "data": {
      "image/png": "[encoded data removed]",
      "text/plain": [
       "<Figure size 432x288 with 1 Axes>"
      ]
     },
     "metadata": {
      "needs_background": "light"
     },
     "output_type": "display_data"
    }
   ],
   "source": [
    "hlist = np.linspace(0,100,101)\n",
    "Vlist = np.zeros_like(hlist)\n",
    "\n",
    "Dval = 80\n",
    "dval = 48\n",
    "Hval = 107\n",
    "k = 42\n",
    "\n",
    "for i,hval in enumerate(hlist):\n",
    "    Vlist[i] = Vfunc(hval,Hval,dval,Dval)\n",
    "    \n",
    "plt.plot(hlist,Vlist)\n",
    "plt.show()"
   ]
  },
  {
   "cell_type": "code",
   "execution_count": 18,
   "metadata": {},
   "outputs": [
    {
     "data": {
      "text/plain": [
       "  message: 'The solver successfully reached the end of the integration interval.'\n",
       "     nfev: 6008\n",
       "     njev: 0\n",
       "      nlu: 0\n",
       "      sol: None\n",
       "   status: 0\n",
       "  success: True\n",
       "        t: array([0.00000000e+00, 2.36765921e-01, 1.23676592e+00, ...,\n",
       "       9.98236766e+02, 9.99236766e+02, 1.00000000e+03])\n",
       " t_events: None\n",
       "        y: array([[3.00000000e+05, 2.99046371e+05, 2.95041100e+05, ...,\n",
       "        6.71669045e-05, 6.56354653e-05, 6.44901568e-05]])\n",
       " y_events: None"
      ]
     },
     "execution_count": 18,
     "metadata": {},
     "output_type": "execute_result"
    }
   ],
   "source": [
    "\n",
    "Dval = 80\n",
    "dval = 48\n",
    "Hval = 107\n",
    "k = 42\n",
    "\n",
    "def func(t,V):\n",
    "    h = np.interp(V,Vlist,hlist)\n",
    "    Fout = k*h\n",
    "    dVdt = -Fout\n",
    "    return dVdt\n",
    "\n",
    "sol = scipy.integrate.solve_ivp(func, (0,1000),[300000],max_step = 1)\n",
    "sol    "
   ]
  },
  {
   "cell_type": "code",
   "execution_count": 19,
   "metadata": {},
   "outputs": [
    {
     "data": {
      "image/png": "[encoded data removed]",
      "text/plain": [
       "<Figure size 432x288 with 1 Axes>"
      ]
     },
     "metadata": {
      "needs_background": "light"
     },
     "output_type": "display_data"
    }
   ],
   "source": [
    "plt.plot(sol.t,sol.y.T)\n",
    "plt.show()"
   ]
  },
  {
   "cell_type": "code",
   "execution_count": null,
   "metadata": {},
   "outputs": [],
   "source": []
  }
 ],
 "metadata": {
  "kernelspec": {
   "display_name": "Python 3",
   "language": "python",
   "name": "python3"
  },
  "language_info": {
   "codemirror_mode": {
    "name": "ipython",
    "version": 3
   },
   "file_extension": ".py",
   "mimetype": "text/x-python",
   "name": "python",
   "nbconvert_exporter": "python",
   "pygments_lexer": "ipython3",
   "version": "3.7.7"
  }
 },
 "nbformat": 4,
 "nbformat_minor": 4
}
