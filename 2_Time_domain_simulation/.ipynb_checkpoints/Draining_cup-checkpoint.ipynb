{
 "cells": [
  {
   "cell_type": "markdown",
   "metadata": {},
   "source": [
    "## The draining cup problem"
   ]
  },
  {
   "cell_type": "markdown",
   "metadata": {},
   "source": [
    "In this notebook we will be modelling a draining cup. We assume the cup is shaped like a [conical frustrum](http://mathworld.wolfram.com/ConicalFrustum.html) or truncated cone:\n",
    "\n",
    "![](cup.png)\n",
    "\n",
    "$D$ and $d$ are the top and bottom diameters of the cup, $H$ is the side length between the diameters, $d_h$ is the hole diameter. We also define $H'$ as the vertical height of the cup and $h$ as the vertical height (or level) of the liquid in the cup"
   ]
  },
  {
   "cell_type": "markdown",
   "metadata": {},
   "source": [
    "### Volume-height relationship"
   ]
  },
  {
   "cell_type": "markdown",
   "metadata": {},
   "source": [
    "Let's work out the relationship between the volume of water and the level in the cup by integrating the area:\n",
    "\n",
    "$$V = \\int_0^h A(h) dh$$"
   ]
  },
  {
   "cell_type": "code",
   "execution_count": 104,
   "metadata": {},
   "outputs": [],
   "source": [
    "import sympy\n",
    "import numpy as np\n",
    "from matplotlib import pyplot as plt\n",
    "import scipy.integrate\n",
    "sympy.init_printing()"
   ]
  },
  {
   "cell_type": "code",
   "execution_count": 91,
   "metadata": {},
   "outputs": [],
   "source": [
    "D, d, H, h = sympy.symbols('D, d, H, h', real=True)"
   ]
  },
  {
   "cell_type": "code",
   "execution_count": 92,
   "metadata": {},
   "outputs": [],
   "source": [
    "R = D/2\n",
    "r = d/2\n",
    "Hprime = sympy.sqrt(H**2 - (R - r)**2)  # Pythagoras"
   ]
  },
  {
   "cell_type": "markdown",
   "metadata": {},
   "source": [
    "The radius changes linearly from the small one to the large one:"
   ]
  },
  {
   "cell_type": "code",
   "execution_count": 93,
   "metadata": {},
   "outputs": [],
   "source": [
    "radius = r + h/Hprime*(R - r)"
   ]
  },
  {
   "cell_type": "markdown",
   "metadata": {},
   "source": [
    "Now it is easy to calculate the area:"
   ]
  },
  {
   "cell_type": "code",
   "execution_count": 94,
   "metadata": {},
   "outputs": [],
   "source": [
    "A = sympy.pi*radius**2"
   ]
  },
  {
   "cell_type": "markdown",
   "metadata": {},
   "source": [
    "And from there, the volume:"
   ]
  },
  {
   "cell_type": "code",
   "execution_count": 95,
   "metadata": {},
   "outputs": [],
   "source": [
    "V = sympy.integrate(A, (h, 0, h))"
   ]
  },
  {
   "cell_type": "code",
   "execution_count": 96,
   "metadata": {},
   "outputs": [],
   "source": [
    "Vfunc = sympy.lambdify([h,D,H,d],V)"
   ]
  },
  {
   "cell_type": "code",
   "execution_count": 123,
   "metadata": {},
   "outputs": [
    {
     "data": {
      "text/plain": [
       "[<matplotlib.lines.Line2D at 0x1bb1f172508>]"
      ]
     },
     "execution_count": 123,
     "metadata": {},
     "output_type": "execute_result"
    },
    {
     "data": {
      "image/png": "[encoded data removed]",
      "text/plain": [
       "<Figure size 432x288 with 1 Axes>"
      ]
     },
     "metadata": {
      "needs_background": "light"
     },
     "output_type": "display_data"
    }
   ],
   "source": [
    "Dval = 80\n",
    "dval = 48\n",
    "Hval = 107\n",
    "\n",
    "hlist = np.linspace(0,100,101)\n",
    "Vlist = np.zeros_like(hlist)\n",
    "\n",
    "for i,hval in enumerate(hlist):\n",
    "    Vlist[i] = Vfunc(hval,Dval,Hval,dval) \n",
    "    \n",
    "plt.plot(hlist,Vlist)\n",
    "    \n"
   ]
  },
  {
   "cell_type": "markdown",
   "metadata": {},
   "source": [
    "### Dynamic model\n",
    "\n",
    "The basic model of the cup we will be working with looks something like this:\n",
    "\n",
    "\\begin{align}\n",
    "\\frac{dV}{dt} &= -F_{\\text{out}} & \\text{Mass Balance simplified to volume balance} \\\\\n",
    "F_{\\text{out}} &= f(h) & \\text{Hydraulics} \\\\\n",
    "h &= f(V) & \\text{Geometry} \\\\\n",
    "\\end{align}"
   ]
  },
  {
   "cell_type": "markdown",
   "metadata": {},
   "source": [
    "The above geometric description allows us to find the $V(h)$, but we actually want $h(V)$."
   ]
  },
  {
   "cell_type": "code",
   "execution_count": 124,
   "metadata": {},
   "outputs": [],
   "source": [
    "Vsymb = sympy.symbols('V', real=True)"
   ]
  },
  {
   "cell_type": "code",
   "execution_count": 125,
   "metadata": {},
   "outputs": [
    {
     "ename": "IndexError",
     "evalue": "list index out of range",
     "output_type": "error",
     "traceback": [
      "\u001b[1;31m---------------------------------------------------------------------------\u001b[0m",
      "\u001b[1;31mIndexError\u001b[0m                                Traceback (most recent call last)",
      "\u001b[1;32m<ipython-input-125-8dd582b614a8>\u001b[0m in \u001b[0;36m<module>\u001b[1;34m\u001b[0m\n\u001b[1;32m----> 1\u001b[1;33m \u001b[0mhV\u001b[0m \u001b[1;33m=\u001b[0m \u001b[0msympy\u001b[0m\u001b[1;33m.\u001b[0m\u001b[0msolve\u001b[0m\u001b[1;33m(\u001b[0m\u001b[0mVsymb\u001b[0m \u001b[1;33m-\u001b[0m \u001b[0mV\u001b[0m\u001b[1;33m,\u001b[0m \u001b[0mh\u001b[0m\u001b[1;33m)\u001b[0m\u001b[1;33m[\u001b[0m\u001b[1;36m3\u001b[0m\u001b[1;33m]\u001b[0m\u001b[1;33m\u001b[0m\u001b[1;33m\u001b[0m\u001b[0m\n\u001b[0m",
      "\u001b[1;31mIndexError\u001b[0m: list index out of range"
     ]
    }
   ],
   "source": [
    "hV = sympy.solve(Vsymb - V, h)[3]"
   ]
  },
  {
   "cell_type": "code",
   "execution_count": 126,
   "metadata": {},
   "outputs": [],
   "source": [
    "# sympy.radsimp(hV{})\n",
    "# hV"
   ]
  },
  {
   "cell_type": "code",
   "execution_count": 129,
   "metadata": {},
   "outputs": [
    {
     "data": {
      "image/png": "[encoded data removed]",
      "text/latex": [
       "$\\displaystyle 0.5491536373961169$"
      ],
      "text/plain": [
       "0.5491536373961169"
      ]
     },
     "execution_count": 129,
     "metadata": {},
     "output_type": "execute_result"
    }
   ],
   "source": [
    "# print(hV)\n",
    "scipy\n",
    "np.interp(,Vlist,hlist)"
   ]
  },
  {
   "cell_type": "code",
   "execution_count": 133,
   "metadata": {},
   "outputs": [
    {
     "data": {
      "text/plain": [
       "[<matplotlib.lines.Line2D at 0x1bb1f2cd6c8>]"
      ]
     },
     "execution_count": 133,
     "metadata": {},
     "output_type": "execute_result"
    },
    {
     "data": {
      "image/png": "[encoded data removed]",
      "text/plain": [
       "<Figure size 432x288 with 1 Axes>"
      ]
     },
     "metadata": {
      "needs_background": "light"
     },
     "output_type": "display_data"
    }
   ],
   "source": [
    "D = 80\n",
    "d = 48\n",
    "H = 107\n",
    "dh = 2.0\n",
    "k = 33000\n",
    "\n",
    "def func(V,t):\n",
    "    h = np.interp(V,Vlist,hlist)\n",
    "    Fout = h*k\n",
    "    dVdt = -Fout\n",
    "    return dVdt\n",
    "tspan = np.linspace(0,10,100)\n",
    "ans = scipy.integrate.odeint(func,[Vlist[100]],tspan)\n",
    "    \n",
    "plt.plot(ans)   \n",
    "    "
   ]
  },
  {
   "cell_type": "code",
   "execution_count": 74,
   "metadata": {},
   "outputs": [
    {
     "name": "stderr",
     "output_type": "stream",
     "text": [
      "C:\\Users\\reube\\Anaconda3\\lib\\site-packages\\ipykernel_launcher.py:7: RuntimeWarning: divide by zero encountered in double_scalars\n",
      "  import sys\n"
     ]
    }
   ],
   "source": [
    "D = 80\n",
    "d = 48\n",
    "H = 107\n",
    "dh = 2.0\n",
    "k = 33\n",
    "V = 500\n",
    "h = -(-3*(-3*D**2*d**2 + 6*D*d**3 + 12*H**2*d**2 - 3*d**4)/(4*D**2 - 8*D*d + 4*d**2) + (3*D**2*d - 6*D*d**2 - 12*H**2*d + 3*d**3)**2/(-2*D*np.sqrt(-D**2 + 2*D*d + 4*H**2 - d**2) + 2*d*np.sqrt(-D**2 + 2*D*d + 4*H**2 - d**2))**2)/(3*(np.sqrt(-4*(-3*(-3*D**2*d**2 + 6*D*d**3 + 12*H**2*d**2 - 3*d**4)/(4*D**2 - 8*D*d + 4*d**2) + (3*D**2*d - 6*D*d**2 - 12*H**2*d + 3*d**3)**2/(-2*D*np.sqrt(-D**2 + 2*D*d + 4*H**2 - d**2) + 2*d*np.sqrt(-D**2 + 2*D*d + 4*H**2 - d**2))**2)**3 + (27*(3*D**2*V - 6*D*V*d - 12*H**2*V + 3*V*d**2)/(np.pi*D**2 - 2*np.pi*D*d + np.pi*d**2) - 9*(3*D**2*d - 6*D*d**2 - 12*H**2*d + 3*d**3)*(-3*D**2*d**2 + 6*D*d**3 + 12*H**2*d**2 - 3*d**4)/((-2*D*np.sqrt(-D**2 + 2*D*d + 4*H**2 - d**2) + 2*d*np.sqrt(-D**2 + 2*D*d + 4*H**2 - d**2))*(4*D**2 - 8*D*d + 4*d**2)) + 2*(3*D**2*d - 6*D*d**2 - 12*H**2*d + 3*d**3)**3/(-2*D*np.sqrt(-D**2 + 2*D*d + 4*H**2 - d**2) + 2*d*np.sqrt(-D**2 + 2*D*d + 4*H**2 - d**2))**3)**2)/2 + 27*(3*D**2*V - 6*D*V*d - 12*H**2*V + 3*V*d**2)/(2*(np.pi*D**2 - 2*np.pi*D*d + np.pi*d**2)) - 9*(3*D**2*d - 6*D*d**2 - 12*H**2*d + 3*d**3)*(-3*D**2*d**2 + 6*D*d**3 + 12*H**2*d**2 - 3*d**4)/(2*(-2*D*np.sqrt(-D**2 + 2*D*d + 4*H**2 - d**2) + 2*d*np.sqrt(-D**2 + 2*D*d + 4*H**2 - d**2))*(4*D**2 - 8*D*d + 4*d**2)) + (3*D**2*d - 6*D*d**2 - 12*H**2*d + 3*d**3)**3/(-2*D*np.sqrt(-D**2 + 2*D*d + 4*H**2 - d**2) + 2*d*np.sqrt(-D**2 + 2*D*d + 4*H**2 - d**2))**3)**(1/3)) - (np.sqrt(-4*(-3*(-3*D**2*d**2 + 6*D*d**3 + 12*H**2*d**2 - 3*d**4)/(4*D**2 - 8*D*d + 4*d**2) + (3*D**2*d - 6*D*d**2 - 12*H**2*d + 3*d**3)**2/(-2*D*np.sqrt(-D**2 + 2*D*d + 4*H**2 - d**2) + 2*d*np.sqrt(-D**2 + 2*D*d + 4*H**2 - d**2))**2)**3 + (27*(3*D**2*V - 6*D*V*d - 12*H**2*V + 3*V*d**2)/(np.pi*D**2 - 2*np.pi*D*d + np.pi*d**2) - 9*(3*D**2*d - 6*D*d**2 - 12*H**2*d + 3*d**3)*(-3*D**2*d**2 + 6*D*d**3 + 12*H**2*d**2 - 3*d**4)/((-2*D*np.sqrt(-D**2 + 2*D*d + 4*H**2 - d**2) + 2*d*np.sqrt(-D**2 + 2*D*d + 4*H**2 - d**2))*(4*D**2 - 8*D*d + 4*d**2)) + 2*(3*D**2*d - 6*D*d**2 - 12*H**2*d + 3*d**3)**3/(-2*D*np.sqrt(-D**2 + 2*D*d + 4*H**2 - d**2) + 2*d*np.sqrt(-D**2 + 2*D*d + 4*H**2 - d**2))**3)**2)/2 + 27*(3*D**2*V - 6*D*V*d - 12*H**2*V + 3*V*d**2)/(2*(np.pi*D**2 - 2*np.pi*D*d + np.pi*d**2)) - 9*(3*D**2*d - 6*D*d**2 - 12*H**2*d + 3*d**3)*(-3*D**2*d**2 + 6*D*d**3 + 12*H**2*d**2 - 3*d**4)/(2*(-2*D*np.sqrt(-D**2 + 2*D*d + 4*H**2 - d**2) + 2*d*np.sqrt(-D**2 + 2*D*d + 4*H**2 - d**2))*(4*D**2 - 8*D*d + 4*d**2)) + (3*D**2*d - 6*D*d**2 - 12*H**2*d + 3*d**3)**3/(-2*D*np.sqrt(-D**2 + 2*D*d + 4*H**2 - d**2) + 2*d*np.sqrt(-D**2 + 2*D*d + 4*H**2 - d**2))**3)**(1/3)/3 - (3*D**2*d - 6*D*d**2 - 12*H**2*d + 3*d**3)/(3*(-2*D*np.sqrt(-D**2 + 2*D*d + 4*H**2 - d**2) + 2*d*np.sqrt(-D**2 + 2*D*d + 4*H**2 - d**2)))"
   ]
  },
  {
   "cell_type": "code",
   "execution_count": 75,
   "metadata": {},
   "outputs": [
    {
     "data": {
      "image/png": "[encoded data removed]",
      "text/latex": [
       "$\\displaystyle inf$"
      ],
      "text/plain": [
       "inf"
      ]
     },
     "execution_count": 75,
     "metadata": {},
     "output_type": "execute_result"
    }
   ],
   "source": [
    "h"
   ]
  },
  {
   "cell_type": "code",
   "execution_count": 66,
   "metadata": {},
   "outputs": [
    {
     "data": {
      "image/png": "[encoded data removed]",
      "text/latex": [
       "$\\displaystyle 183386112.00000006$"
      ],
      "text/plain": [
       "183386112.00000006"
      ]
     },
     "execution_count": 66,
     "metadata": {},
     "output_type": "execute_result"
    }
   ],
   "source": [
    "(-2*D*np.sqrt(-D**2 + 2*D*d + 4*H**2 - d**2) + 2*d*np.sqrt(-D**2 + 2*D*d + 4*H**2 - d**2))**2"
   ]
  },
  {
   "cell_type": "code",
   "execution_count": null,
   "metadata": {},
   "outputs": [],
   "source": [
    "-(-3*(-3*D**2*d**2 + 6*D*d**3 + 12*H**2*d**2 - 3*d**4)/(4*D**2 - 8*D*d + 4*d**2) + (3*D**2*d - 6*D*d**2 - 12*H**2*d + 3*d**3)**2/(-2*D*np.sqrt(-D**2 + 2*D*d + 4*H**2 - d**2) + 2*d*np.sqrt(-D**2 + 2*D*d + 4*H**2 - d**2))**2)/(3*(np.sqrt(-4*(-3*(-3*D**2*d**2 + 6*D*d**3 + 12*H**2*d**2 - 3*d**4)/(4*D**2 - 8*D*d + 4*d**2) + (3*D**2*d - 6*D*d**2 - 12*H**2*d + 3*d**3)**2/(-2*D*np.sqrt(-D**2 + 2*D*d + 4*H**2 - d**2) + 2*d*np.sqrt(-D**2 + 2*D*d + 4*H**2 - d**2))**2)**3 + (27*(3*D**2*V - 6*D*V*d - 12*H**2*V + 3*V*d**2)/(np.pi*D**2 - 2*np.pi*D*d + np.pi*d**2) - 9*(3*D**2*d - 6*D*d**2 - 12*H**2*d + 3*d**3)*(-3*D**2*d**2 + 6*D*d**3 + 12*H**2*d**2 - 3*d**4)/((-2*D*np.sqrt(-D**2 + 2*D*d + 4*H**2 - d**2) + 2*d*np.sqrt(-D**2 + 2*D*d + 4*H**2 - d**2))*(4*D**2 - 8*D*d + 4*d**2)) + 2*(3*D**2*d - 6*D*d**2 - 12*H**2*d + 3*d**3)**3/(-2*D*np.sqrt(-D**2 + 2*D*d + 4*H**2 - d**2) + 2*d*np.sqrt(-D**2 + 2*D*d + 4*H**2 - d**2))**3)**2)/2 + 27*(3*D**2*V - 6*D*V*d - 12*H**2*V + 3*V*d**2)/(2*(np.pi*D**2 - 2*np.pi*D*d + np.pi*d**2)) - 9*(3*D**2*d - 6*D*d**2 - 12*H**2*d + 3*d**3)*(-3*D**2*d**2 + 6*D*d**3 + 12*H**2*d**2 - 3*d**4)/(2*(-2*D*np.sqrt(-D**2 + 2*D*d + 4*H**2 - d**2) + 2*d*np.sqrt(-D**2 + 2*D*d + 4*H**2 - d**2))*(4*D**2 - 8*D*d + 4*d**2)) + (3*D**2*d - 6*D*d**2 - 12*H**2*d + 3*d**3)**3/(-2*D*np.sqrt(-D**2 + 2*D*d + 4*H**2 - d**2) + 2*d*np.sqrt(-D**2 + 2*D*d + 4*H**2 - d**2))**3)**(1/3)) - (np.sqrt(-4*(-3*(-3*D**2*d**2 + 6*D*d**3 + 12*H**2*d**2 - 3*d**4)/(4*D**2 - 8*D*d + 4*d**2) + (3*D**2*d - 6*D*d**2 - 12*H**2*d + 3*d**3)**2/(-2*D*np.sqrt(-D**2 + 2*D*d + 4*H**2 - d**2) + 2*d*np.sqrt(-D**2 + 2*D*d + 4*H**2 - d**2))**2)**3 + (27*(3*D**2*V - 6*D*V*d - 12*H**2*V + 3*V*d**2)/(np.pi*D**2 - 2*np.pi*D*d + np.pi*d**2) - 9*(3*D**2*d - 6*D*d**2 - 12*H**2*d + 3*d**3)*(-3*D**2*d**2 + 6*D*d**3 + 12*H**2*d**2 - 3*d**4)/((-2*D*np.sqrt(-D**2 + 2*D*d + 4*H**2 - d**2) + 2*d*np.sqrt(-D**2 + 2*D*d + 4*H**2 - d**2))*(4*D**2 - 8*D*d + 4*d**2)) + 2*(3*D**2*d - 6*D*d**2 - 12*H**2*d + 3*d**3)**3/(-2*D*np.sqrt(-D**2 + 2*D*d + 4*H**2 - d**2) + 2*d*np.sqrt(-D**2 + 2*D*d + 4*H**2 - d**2))**3)**2)/2 + 27*(3*D**2*V - 6*D*V*d - 12*H**2*V + 3*V*d**2)/(2*(np.pi*D**2 - 2*np.pi*D*d + np.pi*d**2)) - 9*(3*D**2*d - 6*D*d**2 - 12*H**2*d + 3*d**3)*(-3*D**2*d**2 + 6*D*d**3 + 12*H**2*d**2 - 3*d**4)/(2*(-2*D*np.sqrt(-D**2 + 2*D*d + 4*H**2 - d**2) + 2*d*np.sqrt(-D**2 + 2*D*d + 4*H**2 - d**2))*(4*D**2 - 8*D*d + 4*d**2)) + (3*D**2*d - 6*D*d**2 - 12*H**2*d + 3*d**3)**3/(-2*D*np.sqrt(-D**2 + 2*D*d + 4*H**2 - d**2) + 2*d*np.sqrt(-D**2 + 2*D*d + 4*H**2 - d**2))**3)**(1/3)/3 - (3*D**2*d - 6*D*d**2 - 12*H**2*d + 3*d**3)/(3*(-2*D*np.sqrt(-D**2 + 2*D*d + 4*H**2 - d**2) + 2*d*np.sqrt(-D**2 + 2*D*d + 4*H**2 - d**2)))"
   ]
  }
 ],
 "metadata": {
  "kernelspec": {
   "display_name": "Python 3",
   "language": "python",
   "name": "python3"
  },
  "language_info": {
   "codemirror_mode": {
    "name": "ipython",
    "version": 3
   },
   "file_extension": ".py",
   "mimetype": "text/x-python",
   "name": "python",
   "nbconvert_exporter": "python",
   "pygments_lexer": "ipython3",
   "version": "3.7.7"
  }
 },
 "nbformat": 4,
 "nbformat_minor": 4
}
