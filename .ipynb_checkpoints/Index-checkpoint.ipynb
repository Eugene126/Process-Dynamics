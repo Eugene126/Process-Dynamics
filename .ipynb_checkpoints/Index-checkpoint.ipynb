{
 "cells": [
  {
   "cell_type": "markdown",
   "metadata": {},
   "source": [
    "# Process Dynamics (CPN321)\n",
    "\n",
    "### 1. Modelling\n",
    "\n",
    "* [Modelling basics](https://nbviewer.jupyter.org/github/reubens9/Process-Dynamics/tree/master/1_Modelling/1_Modelling_basics.ipynb)\n",
    "* [Modelling equations and introduction to simulation](https://nbviewer.jupyter.org/github/reubens9/Process-Dynamics/tree/master/1_Modelling/2_Modelling_equations.ipynb)\n",
    "\n",
    "\n",
    "### 2. Time domain simulation  \n",
    "\n",
    "\n",
    "\n",
    "### 3. Linear systems\n",
    "\n",
    "\n",
    "\n",
    "### 4. First and second order system dynamics\n",
    "\n",
    "\n",
    "\n",
    "### 5. Complex system dynamics\n",
    "\n",
    "\n",
    "\n",
    "### 6. Multivariable system representations\n",
    "\n",
    "\n",
    "\n",
    "### 7. System Identification\n",
    "\n",
    "\n",
    "\n",
    "### 8. Frequency domain\n",
    "\n",
    "\n",
    "\n",
    "### 9. Sampled systems\n"
   ]
  }
 ],
 "metadata": {
  "kernelspec": {
   "display_name": "Python 3",
   "language": "python",
   "name": "python3"
  },
  "language_info": {
   "codemirror_mode": {
    "name": "ipython",
    "version": 3
   },
   "file_extension": ".py",
   "mimetype": "text/x-python",
   "name": "python",
   "nbconvert_exporter": "python",
   "pygments_lexer": "ipython3",
   "version": "3.7.7"
  }
 },
 "nbformat": 4,
 "nbformat_minor": 4
}
