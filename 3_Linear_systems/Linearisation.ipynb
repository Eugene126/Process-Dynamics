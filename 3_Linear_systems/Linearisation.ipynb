{
 "cells": [
  {
   "cell_type": "markdown",
   "metadata": {},
   "source": [
    "## Example\n",
    "\n",
    "\n",
    "<img src= 'gas_reactor.png' width = 650px />\n",
    "\n",
    "Gas phase reaction: $2A -> B$\n",
    "$$R_A = k_1 C_A^{1.5}$$\n",
    "\n",
    "To begin we are going to make the following simplifying assumptions:\n",
    "1. Isothermal system\n",
    "2. Ideal gas behavior\n",
    "3. $P_D$ = constant\n",
    "\n",
    "i) Identify the state variables of the system.\n",
    " \n",
    "ii) Set up a dynamic process model."
   ]
  },
  {
   "cell_type": "markdown",
   "metadata": {},
   "source": [
    "Inlet variable: $F_o(t)$, $\\rho_o(t)$, $y_o(t)$\n",
    "\n",
    "The inlet variables will most likely be specified.\n",
    "\n",
    "Outlet variables: $F(t)$, $\\rho(t)$, $y(t)$\n",
    "\n",
    "So the variables that we need to determine in order to solve our system are $F(t)$, $\\rho(t)$, $y(t)$, however, we are able to further describe our system with the following two relationships:\n",
    "\n",
    "$$F(t) = f[P(t)]$$\n",
    "$$\\rho(t) = f[P(t),y(t)]$$\n",
    "\n",
    "Therefore we will only require $P(t)$ and $y(t)$ to describe the system and these are our state variables."
   ]
  },
  {
   "cell_type": "markdown",
   "metadata": {},
   "source": [
    "So knowing this now we have to write two equations that we can use to solve for these state variables. A good place to start is with a mass balance:\n",
    "\n",
    "$$\\frac{d}{dt}\\big(V\\rho(t)\\big) = F_o(t) \\rho_o(t) - F(t) \\rho(t)$$\n",
    "\n",
    "And a component balance for A gives us:\n",
    "\n",
    "$$\\frac{d}{dt}\\big(V C_A(t)\\big) = F_o(t) C_Ao(t) - F(t)C_A(t) - 2Vk_1C_A(t)^{1.5}$$\n",
    "\n",
    "The unknowns in these equations are $F(t)$, $\\rho(t)$ and $C_A(t)$. So we will have to find more equations to solve for the unknowns. We can use the equation the explains the pressure drop over a resistance to describe the outlet flow rate:\n",
    "$$F(t) = K\\sqrt{\\frac{P(t) - P_D}{\\rho(t)}}$$\n",
    "\n",
    "The density of the gas can be described with:\n",
    "\n",
    "$$\\rho (t) = \\frac{M(t)P(t)}{RT}$$\n",
    "\n",
    "Now we require an equation for the molar mass, $M(t)$:\n",
    "\n",
    "$$M(t) = y(t)M_A + (1 - y(t))M_B$$\n",
    "\n",
    "The concentration of A in the reactor, $C_A(t)$ can be calculated with the ideal gas law:\n",
    "\n",
    "$$C_A(t) = \\frac{y(t) P(t)}{RT}$$\n",
    "\n",
    "We have added three unknowns P(t), M(t) and y(t), but we have also added four equations. \n",
    "\n",
    "Now we are able to substitute these equations into the two differential equation. Substituting the flow rate into mass balance we get:\n",
    "\n",
    "$$\\frac{d}{dt}\\big(V\\rho(t)\\big) = F_o(t) \\rho_o(t) - K\\sqrt{\\frac{P(t) - P_D}{\\rho(t)}} \\rho(t)$$\n",
    "\n",
    "Now we can simplify and substitute for the density and molar mass:\n",
    "\n",
    "$$\\frac{V}{RT}\\frac{d}{dt}\\big((y(t)M_A + (1 - y(t))M_B)P(t)\\big) = F_o(t) \\rho_o(t) - K\\sqrt{\\frac{(P(t) - P_D)((y(t)M_A + (1 - y(t))M_B)P(t))}{RT}} $$\n",
    "\n",
    "And now for the component balance we follow the same procedure as we did with the mass balance:\n",
    "\n",
    "$$\\frac{V}{RT}\\frac{d}{dt}\\big({y(t) P(t)}\\big) = F_o(t) C_Ao(t) - K\\sqrt{\\frac{(P(t) - P_D)RT}{(y(t)M_A + (1 - y(t))M_B)P(t)}}\\frac{y(t) P(t)}{RT} - 2Vk_1 \\big(\\frac{y(t) P(t)}{RT}\\big)^{1.5}$$\n",
    "\n",
    "Now we have two differential equations and two unknowns.\n",
    "\n",
    "Identify the nonlinear terms in the equations above."
   ]
  },
  {
   "cell_type": "markdown",
   "metadata": {},
   "source": [
    "# Linearisation\n",
    "\n",
    "Many system posses nonlinear input output relationships, examples include:\n",
    "$$f(x,y) = ax^y$$\n",
    "$$f(x,y) = a x y$$\n",
    "$$f(x) = ax^n$$\n",
    "$$f(x) = a^x$$\n",
    "\n",
    "The problem with nonlinear terms is that the analytical solution of ordinary differential equations is difficult and Classical process control theory has been developed for linear processes. The solution to the problem is that we are going to linearise all the nonlinear term, however the downside is that it results in an approximation.\n",
    "\n",
    "### First order Taylor series expansion\n",
    "\n",
    "$$f(x) = nonlinear$$\n",
    "$$\\approx f(\\bar{x}) + \\dfrac{df}{dx}\\Big|_{x = \\bar{x}} \\big(x - \\bar{x}\\big) + \\dfrac{d^2 f}{dx^2}\\Big|_{x = \\bar{x}} \\big(x - \\bar{x}\\big)^2 \\frac{1}{2!} + \\dfrac{d^n f}{dx^n}\\Big|_{x = \\bar{x}} \\big(x - \\bar{x}\\big)^n \\frac{1}{n!}$$\n",
    "\n",
    "Although this would be a very accurate approximation is it still a nonlinear polynomial, we therefore have to limit the expansion to the first derivative.\n",
    "\n",
    "$$f(x) \\approx f(\\bar{x}) + \\dfrac{df}{dx}\\Big|_{x = \\bar{x}} \\big(x - \\bar{x}\\big)$$\n",
    "$$\\approx k_1 + mx - m\\bar{x}$$\n",
    "$$\\approx mx + c$$\n",
    "\n",
    "And this results in linear relationship.\n",
    "\n",
    "Linearisation is always relative to a reference condition, for our purposes in process dynamic and control the relative condition is the nominal steady state operating condition.\n",
    "\n",
    "<img src = 'linearise.png'/>"
   ]
  },
  {
   "cell_type": "code",
   "execution_count": 30,
   "metadata": {},
   "outputs": [],
   "source": [
    "import sympy\n",
    "sympy.init_printing()"
   ]
  },
  {
   "cell_type": "markdown",
   "metadata": {},
   "source": [
    "Valve equation\n",
    "=========="
   ]
  },
  {
   "cell_type": "markdown",
   "metadata": {},
   "source": [
    "Let's linearise the nasty nonlinear term in the equation percentage valve relationship in T4 Problem 4 (or T2 problem 4)\n",
    "\n",
    "$$ F = \\underbrace{C_v \\alpha^{x - 1}}_{\\text{nonlinear}} $$"
   ]
  },
  {
   "cell_type": "markdown",
   "metadata": {},
   "source": [
    "First we introduce the requisite symbols. Notice that we specify constraints on these variables, this will make simplifications better later on."
   ]
  },
  {
   "cell_type": "code",
   "execution_count": 31,
   "metadata": {},
   "outputs": [],
   "source": [
    "C_v, alpha, x = sympy.symbols('C_v, alpha, x', positive=True)"
   ]
  },
  {
   "cell_type": "code",
   "execution_count": 32,
   "metadata": {},
   "outputs": [
    {
     "data": {
      "image/png": "[encoded data removed]",
      "text/latex": [
       "$\\displaystyle C_{v} \\alpha^{x - 1}$"
      ],
      "text/plain": [
       "    x - 1\n",
       "Cᵥ⋅α     "
      ]
     },
     "execution_count": 32,
     "metadata": {},
     "output_type": "execute_result"
    }
   ],
   "source": [
    "term = C_v*alpha**(x - 1)\n",
    "term"
   ]
  },
  {
   "cell_type": "markdown",
   "metadata": {},
   "source": [
    "We also introduce a barred versions of the variable. Sympy automatically constructs these to typesetting nicely."
   ]
  },
  {
   "cell_type": "code",
   "execution_count": 33,
   "metadata": {},
   "outputs": [
    {
     "data": {
      "image/png": "[encoded data removed]",
      "text/latex": [
       "$\\displaystyle \\bar{x}$"
      ],
      "text/plain": [
       "x̅"
      ]
     },
     "execution_count": 33,
     "metadata": {},
     "output_type": "execute_result"
    }
   ],
   "source": [
    "xbar = sympy.symbols('xbar', positive=True)\n",
    "xbar"
   ]
  },
  {
   "cell_type": "markdown",
   "metadata": {},
   "source": [
    "For single variable expressions, we can use `sympy.series` to linearise for us. Note that the help for `sympy.series` references the help for `sympy.Expr.series`, which has a lot more detail about the operation of this function"
   ]
  },
  {
   "cell_type": "code",
   "execution_count": 34,
   "metadata": {},
   "outputs": [
    {
     "data": {
      "text/plain": [
       "\u001b[1;31mSignature:\u001b[0m \u001b[0msympy\u001b[0m\u001b[1;33m.\u001b[0m\u001b[0mseries\u001b[0m\u001b[1;33m(\u001b[0m\u001b[0mexpr\u001b[0m\u001b[1;33m,\u001b[0m \u001b[0mx\u001b[0m\u001b[1;33m=\u001b[0m\u001b[1;32mNone\u001b[0m\u001b[1;33m,\u001b[0m \u001b[0mx0\u001b[0m\u001b[1;33m=\u001b[0m\u001b[1;36m0\u001b[0m\u001b[1;33m,\u001b[0m \u001b[0mn\u001b[0m\u001b[1;33m=\u001b[0m\u001b[1;36m6\u001b[0m\u001b[1;33m,\u001b[0m \u001b[0mdir\u001b[0m\u001b[1;33m=\u001b[0m\u001b[1;34m'+'\u001b[0m\u001b[1;33m)\u001b[0m\u001b[1;33m\u001b[0m\u001b[1;33m\u001b[0m\u001b[0m\n",
       "\u001b[1;31mDocstring:\u001b[0m\n",
       "Series expansion of expr around point `x = x0`.\n",
       "\n",
       "Parameters\n",
       "==========\n",
       "\n",
       "expr : Expression\n",
       "       The expression whose series is to be expanded.\n",
       "\n",
       "x : Symbol\n",
       "    It is the variable of the expression to be calculated.\n",
       "\n",
       "x0 : Value\n",
       "     The value around which ``x`` is calculated. Can be any value\n",
       "     from ``-oo`` to ``oo``.\n",
       "\n",
       "n : Value\n",
       "    The number of terms upto which the series is to be expanded.\n",
       "\n",
       "dir : String, optional\n",
       "      The series-expansion can be bi-directional. If ``dir=\"+\"``,\n",
       "      then (x->x0+). If ``dir=\"-\", then (x->x0-). For infinite\n",
       "      ``x0`` (``oo`` or ``-oo``), the ``dir`` argument is determined\n",
       "      from the direction of the infinity (i.e., ``dir=\"-\"`` for\n",
       "      ``oo``).\n",
       "\n",
       "Examples\n",
       "========\n",
       "\n",
       ">>> from sympy import Symbol, series, tan, oo\n",
       ">>> from sympy.abc import x\n",
       ">>> f = tan(x)\n",
       ">>> series(f, x, 2, 6, \"+\")\n",
       "tan(2) + (1 + tan(2)**2)*(x - 2) + (x - 2)**2*(tan(2)**3 + tan(2)) +\n",
       "(x - 2)**3*(1/3 + 4*tan(2)**2/3 + tan(2)**4) + (x - 2)**4*(tan(2)**5 +\n",
       "5*tan(2)**3/3 + 2*tan(2)/3) + (x - 2)**5*(2/15 + 17*tan(2)**2/15 +\n",
       "2*tan(2)**4 + tan(2)**6) + O((x - 2)**6, (x, 2))\n",
       "\n",
       ">>> series(f, x, 2, 3, \"-\")\n",
       "tan(2) + (2 - x)*(-tan(2)**2 - 1) + (2 - x)**2*(tan(2)**3 + tan(2))\n",
       "+ O((x - 2)**3, (x, 2))\n",
       "\n",
       ">>> series(f, x, 2, oo, \"+\")\n",
       "Traceback (most recent call last):\n",
       "...\n",
       "TypeError: 'Infinity' object cannot be interpreted as an integer\n",
       "\n",
       "Returns\n",
       "=======\n",
       "\n",
       "Expr\n",
       "    Series expansion of the expression about x0\n",
       "\n",
       "See Also\n",
       "========\n",
       "\n",
       "sympy.core.expr.Expr.series: See the docstring of Expr.series() for complete details of this wrapper.\n",
       "\u001b[1;31mFile:\u001b[0m      c:\\users\\reube\\anaconda3\\lib\\site-packages\\sympy\\series\\series.py\n",
       "\u001b[1;31mType:\u001b[0m      function\n"
      ]
     },
     "metadata": {},
     "output_type": "display_data"
    }
   ],
   "source": [
    "sympy.series?"
   ]
  },
  {
   "cell_type": "code",
   "execution_count": 35,
   "metadata": {},
   "outputs": [
    {
     "data": {
      "text/plain": [
       "\u001b[1;31mSignature:\u001b[0m \u001b[0msympy\u001b[0m\u001b[1;33m.\u001b[0m\u001b[0mExpr\u001b[0m\u001b[1;33m.\u001b[0m\u001b[0mseries\u001b[0m\u001b[1;33m(\u001b[0m\u001b[0mself\u001b[0m\u001b[1;33m,\u001b[0m \u001b[0mx\u001b[0m\u001b[1;33m=\u001b[0m\u001b[1;32mNone\u001b[0m\u001b[1;33m,\u001b[0m \u001b[0mx0\u001b[0m\u001b[1;33m=\u001b[0m\u001b[1;36m0\u001b[0m\u001b[1;33m,\u001b[0m \u001b[0mn\u001b[0m\u001b[1;33m=\u001b[0m\u001b[1;36m6\u001b[0m\u001b[1;33m,\u001b[0m \u001b[0mdir\u001b[0m\u001b[1;33m=\u001b[0m\u001b[1;34m'+'\u001b[0m\u001b[1;33m,\u001b[0m \u001b[0mlogx\u001b[0m\u001b[1;33m=\u001b[0m\u001b[1;32mNone\u001b[0m\u001b[1;33m)\u001b[0m\u001b[1;33m\u001b[0m\u001b[1;33m\u001b[0m\u001b[0m\n",
       "\u001b[1;31mDocstring:\u001b[0m\n",
       "Series expansion of \"self\" around ``x = x0`` yielding either terms of\n",
       "the series one by one (the lazy series given when n=None), else\n",
       "all the terms at once when n != None.\n",
       "\n",
       "Returns the series expansion of \"self\" around the point ``x = x0``\n",
       "with respect to ``x`` up to ``O((x - x0)**n, x, x0)`` (default n is 6).\n",
       "\n",
       "If ``x=None`` and ``self`` is univariate, the univariate symbol will\n",
       "be supplied, otherwise an error will be raised.\n",
       "\n",
       "Parameters\n",
       "==========\n",
       "\n",
       "expr : Expression\n",
       "       The expression whose series is to be expanded.\n",
       "\n",
       "x : Symbol\n",
       "    It is the variable of the expression to be calculated.\n",
       "\n",
       "x0 : Value\n",
       "     The value around which ``x`` is calculated. Can be any value\n",
       "     from ``-oo`` to ``oo``.\n",
       "\n",
       "n : Value\n",
       "    The number of terms upto which the series is to be expanded.\n",
       "\n",
       "dir : String, optional\n",
       "      The series-expansion can be bi-directional. If ``dir=\"+\"``,\n",
       "      then (x->x0+). If ``dir=\"-\", then (x->x0-). For infinite\n",
       "      ``x0`` (``oo`` or ``-oo``), the ``dir`` argument is determined\n",
       "      from the direction of the infinity (i.e., ``dir=\"-\"`` for\n",
       "      ``oo``).\n",
       "\n",
       "logx : optional\n",
       "       It is used to replace any log(x) in the returned series with a\n",
       "       symbolic value rather than evaluating the actual value.\n",
       "\n",
       "Examples\n",
       "========\n",
       "\n",
       ">>> from sympy import cos, exp, tan, oo, series\n",
       ">>> from sympy.abc import x, y\n",
       ">>> cos(x).series()\n",
       "1 - x**2/2 + x**4/24 + O(x**6)\n",
       ">>> cos(x).series(n=4)\n",
       "1 - x**2/2 + O(x**4)\n",
       ">>> cos(x).series(x, x0=1, n=2)\n",
       "cos(1) - (x - 1)*sin(1) + O((x - 1)**2, (x, 1))\n",
       ">>> e = cos(x + exp(y))\n",
       ">>> e.series(y, n=2)\n",
       "cos(x + 1) - y*sin(x + 1) + O(y**2)\n",
       ">>> e.series(x, n=2)\n",
       "cos(exp(y)) - x*sin(exp(y)) + O(x**2)\n",
       "\n",
       "If ``n=None`` then a generator of the series terms will be returned.\n",
       "\n",
       ">>> term=cos(x).series(n=None)\n",
       ">>> [next(term) for i in range(2)]\n",
       "[1, -x**2/2]\n",
       "\n",
       "For ``dir=+`` (default) the series is calculated from the right and\n",
       "for ``dir=-`` the series from the left. For smooth functions this\n",
       "flag will not alter the results.\n",
       "\n",
       ">>> abs(x).series(dir=\"+\")\n",
       "x\n",
       ">>> abs(x).series(dir=\"-\")\n",
       "-x\n",
       ">>> f = tan(x)\n",
       ">>> f.series(x, 2, 6, \"+\")\n",
       "tan(2) + (1 + tan(2)**2)*(x - 2) + (x - 2)**2*(tan(2)**3 + tan(2)) +\n",
       "(x - 2)**3*(1/3 + 4*tan(2)**2/3 + tan(2)**4) + (x - 2)**4*(tan(2)**5 +\n",
       "5*tan(2)**3/3 + 2*tan(2)/3) + (x - 2)**5*(2/15 + 17*tan(2)**2/15 +\n",
       "2*tan(2)**4 + tan(2)**6) + O((x - 2)**6, (x, 2))\n",
       "\n",
       ">>> f.series(x, 2, 3, \"-\")\n",
       "tan(2) + (2 - x)*(-tan(2)**2 - 1) + (2 - x)**2*(tan(2)**3 + tan(2))\n",
       "+ O((x - 2)**3, (x, 2))\n",
       "\n",
       "Returns\n",
       "=======\n",
       "\n",
       "Expr : Expression\n",
       "    Series expansion of the expression about x0\n",
       "\n",
       "Raises\n",
       "======\n",
       "\n",
       "TypeError\n",
       "    If \"n\" and \"x0\" are infinity objects\n",
       "\n",
       "PoleError\n",
       "    If \"x0\" is an infinity object\n",
       "\u001b[1;31mFile:\u001b[0m      c:\\users\\reube\\anaconda3\\lib\\site-packages\\sympy\\core\\expr.py\n",
       "\u001b[1;31mType:\u001b[0m      function\n"
      ]
     },
     "metadata": {},
     "output_type": "display_data"
    }
   ],
   "source": [
    "sympy.Expr.series?"
   ]
  },
  {
   "cell_type": "markdown",
   "metadata": {},
   "source": [
    "Calling series by itself will result in an error term (the one with an $\\mathcal{O}$). This is useful to estimate the error of the approximation."
   ]
  },
  {
   "cell_type": "code",
   "execution_count": 36,
   "metadata": {},
   "outputs": [
    {
     "data": {
      "image/png": "[encoded data removed]",
      "text/latex": [
       "$\\displaystyle \\frac{C_{v} e^{\\bar{x} \\log{\\left(\\alpha \\right)}}}{\\alpha} + \\frac{C_{v} \\left(x - \\bar{x}\\right) e^{\\bar{x} \\log{\\left(\\alpha \\right)}} \\log{\\left(\\alpha \\right)}}{\\alpha} + O\\left(\\left(x - \\bar{x}\\right)^{2}; x\\rightarrow \\bar{x}\\right)$"
      ],
      "text/plain": [
       "    x̅⋅log(α)               x̅⋅log(α)                            \n",
       "Cᵥ⋅ℯ           Cᵥ⋅(x - x̅)⋅ℯ        ⋅log(α)    ⎛       2       ⎞\n",
       "──────────── + ─────────────────────────── + O⎝(x - x̅) ; x → x̅⎠\n",
       "     α                      α                                  "
      ]
     },
     "execution_count": 36,
     "metadata": {},
     "output_type": "execute_result"
    }
   ],
   "source": [
    "sympy.series(term, x, xbar, 2)"
   ]
  },
  {
   "cell_type": "markdown",
   "metadata": {},
   "source": [
    "But mostly we will be interested in the expression rather than the error, so we will remove that term with the `removeO` method:"
   ]
  },
  {
   "cell_type": "code",
   "execution_count": 37,
   "metadata": {},
   "outputs": [
    {
     "data": {
      "image/png": "[encoded data removed]",
      "text/latex": [
       "$\\displaystyle \\frac{C_{v} \\left(x - \\bar{x}\\right) e^{\\bar{x} \\log{\\left(\\alpha \\right)}} \\log{\\left(\\alpha \\right)}}{\\alpha} + \\frac{C_{v} e^{\\bar{x} \\log{\\left(\\alpha \\right)}}}{\\alpha}$"
      ],
      "text/plain": [
       "            x̅⋅log(α)              x̅⋅log(α)\n",
       "Cᵥ⋅(x - x̅)⋅ℯ        ⋅log(α)   Cᵥ⋅ℯ        \n",
       "─────────────────────────── + ────────────\n",
       "             α                     α      "
      ]
     },
     "execution_count": 37,
     "metadata": {},
     "output_type": "execute_result"
    }
   ],
   "source": [
    "lineq = sympy.series(term, x, xbar, 2).removeO()\n",
    "lineq"
   ]
  },
  {
   "cell_type": "markdown",
   "metadata": {},
   "source": [
    "# A note about simplification\n",
    "\n",
    "You will note that we specified `positive=True` for all our symbols when we created them. This is because the default assumptions about variables in SymPy are that they are complex. And for complex numbers, `log` is not a 1-to-1 function. See if you understand the following:"
   ]
  },
  {
   "cell_type": "code",
   "execution_count": 38,
   "metadata": {},
   "outputs": [
    {
     "data": {
      "image/png": "[encoded data removed]",
      "text/latex": [
       "$\\displaystyle e^{\\bar{x} \\log{\\left(\\alpha \\right)}}$"
      ],
      "text/plain": [
       " x̅⋅log(α)\n",
       "ℯ        "
      ]
     },
     "execution_count": 38,
     "metadata": {},
     "output_type": "execute_result"
    }
   ],
   "source": [
    "xbar, alpha = sympy.symbols('xbar, alpha')\n",
    "sympy.exp(xbar*sympy.log(alpha)).simplify()"
   ]
  },
  {
   "cell_type": "code",
   "execution_count": 39,
   "metadata": {},
   "outputs": [
    {
     "data": {
      "image/png": "[encoded data removed]",
      "text/latex": [
       "$\\displaystyle \\alpha^{\\bar{x}}$"
      ],
      "text/plain": [
       " x̅\n",
       "α "
      ]
     },
     "execution_count": 39,
     "metadata": {},
     "output_type": "execute_result"
    }
   ],
   "source": [
    "xbar, alpha = sympy.symbols('xbar, alpha', positive=True)\n",
    "sympy.exp(xbar*sympy.log(alpha)).simplify()"
   ]
  },
  {
   "cell_type": "markdown",
   "metadata": {},
   "source": [
    "Multiple variables\n",
    "---------------\n",
    "\n",
    "Assume that $f(x,y)$ is nonlinear. Using a first order Taylor expansion:\n",
    "\n",
    "$$f(x,y) \\approx f(\\bar{x},\\bar{y}) + \\dfrac{df}{dx}\\Big|_{\\bar{x},\\bar{y}} \\big(x - \\bar{x}\\big)+ \\dfrac{df}{dy}\\Big|_{\\bar{x},\\bar{y}} \\big(y - \\bar{y}\\big)$$\n",
    "$$\\approx k_0 + k_1x - k_1\\bar{x} + k_2y - k_2\\bar{y}$$\n",
    "$$\\approx k_1x + k_2y + c$$\n",
    "\n",
    "This also results is a linear relation.\n",
    "\n",
    "Unfortunately, SymPy doesn't have a built-in function for multivariate Taylor series, and consecutive application of the `series` function doesn't do exactly what we want."
   ]
  },
  {
   "cell_type": "code",
   "execution_count": 40,
   "metadata": {},
   "outputs": [],
   "source": [
    "variables = x, y, z = sympy.symbols('x, y, z')\n",
    "bars = xbar, ybar, zbar = sympy.symbols('xbar, ybar, zbar')"
   ]
  },
  {
   "cell_type": "code",
   "execution_count": 41,
   "metadata": {},
   "outputs": [],
   "source": [
    "term_0 = x*y*z"
   ]
  },
  {
   "cell_type": "markdown",
   "metadata": {},
   "source": [
    "Note that the other variables are assumed to be constant here, so we don't recover the answer we are looking for."
   ]
  },
  {
   "cell_type": "code",
   "execution_count": 42,
   "metadata": {},
   "outputs": [
    {
     "data": {
      "image/png": "[encoded data removed]",
      "text/latex": [
       "$\\displaystyle x \\bar{y} z + x z \\left(y - \\bar{y}\\right)$"
      ],
      "text/plain": [
       "x⋅y̅⋅z + x⋅z⋅(y - y̅)"
      ]
     },
     "execution_count": 42,
     "metadata": {},
     "output_type": "execute_result"
    }
   ],
   "source": [
    "term_0.series(x, xbar, 2).removeO().series(y, ybar, 2).removeO()"
   ]
  },
  {
   "cell_type": "markdown",
   "metadata": {},
   "source": [
    "The function `tbcontrol.symbolic.linearise` calculates a multivariable linearisation using the textbook formula. Note that it does not handle expressions which include derivatives or equalities, so don't try to pass a full equation, just use it for the nonlinear terms."
   ]
  },
  {
   "cell_type": "code",
   "execution_count": 43,
   "metadata": {},
   "outputs": [],
   "source": [
    "import tbcontrol.symbolic"
   ]
  },
  {
   "cell_type": "code",
   "execution_count": 44,
   "metadata": {},
   "outputs": [
    {
     "data": {
      "image/png": "[encoded data removed]",
      "text/latex": [
       "$\\displaystyle \\bar{x} \\bar{y} \\bar{z} + \\bar{x} \\bar{y} \\left(z - \\bar{z}\\right) + \\bar{x} \\bar{z} \\left(y - \\bar{y}\\right) + \\bar{y} \\bar{z} \\left(x - \\bar{x}\\right)$"
      ],
      "text/plain": [
       "x̅⋅y̅⋅z̅ + x̅⋅y̅⋅(z - z̅) + x̅⋅z̅⋅(y - y̅) + y̅⋅z̅⋅(x - x̅)"
      ]
     },
     "execution_count": 44,
     "metadata": {},
     "output_type": "execute_result"
    }
   ],
   "source": [
    "bars, linearexpression = tbcontrol.symbolic.linearise(term_0, variables)\n",
    "linearexpression"
   ]
  },
  {
   "cell_type": "markdown",
   "metadata": {},
   "source": [
    "## Deviation variables\n",
    "\n",
    "Rewrite the variables in terms of deviations from a reference condition, often the steady-state value. This results in:\n",
    "- Eliminating the constant terms.\n",
    "- All initial values become zero.\n",
    "\n",
    "$$x'(t) = x(t) - \\bar{x}$$\n",
    "\n",
    "How to do this with sympy:"
   ]
  },
  {
   "cell_type": "code",
   "execution_count": 45,
   "metadata": {},
   "outputs": [],
   "source": [
    "xprime = sympy.symbols(\"x'\", positive=True)"
   ]
  },
  {
   "cell_type": "code",
   "execution_count": 46,
   "metadata": {},
   "outputs": [
    {
     "data": {
      "image/png": "[encoded data removed]",
      "text/latex": [
       "$\\displaystyle \\frac{C_{v} x' e^{\\bar{x} \\log{\\left(\\alpha \\right)}} \\log{\\left(\\alpha \\right)}}{\\alpha} + \\frac{C_{v} e^{\\bar{x} \\log{\\left(\\alpha \\right)}}}{\\alpha}$"
      ],
      "text/plain": [
       "       x̅⋅log(α)              x̅⋅log(α)\n",
       "Cᵥ⋅x'⋅ℯ        ⋅log(α)   Cᵥ⋅ℯ        \n",
       "────────────────────── + ────────────\n",
       "          α                   α      "
      ]
     },
     "execution_count": 46,
     "metadata": {},
     "output_type": "execute_result"
    }
   ],
   "source": [
    "term = C_v*alpha**(x - 1)\n",
    "lineq = sympy.series(term, x, xbar, 2).removeO()\n",
    "lineq_deviation = lineq.subs({x: xprime + xbar})\n",
    "lineq_deviation"
   ]
  },
  {
   "cell_type": "code",
   "execution_count": 47,
   "metadata": {},
   "outputs": [],
   "source": [
    "import scipy.integrate\n",
    "from matplotlib import pyplot as plt\n",
    "import numpy as np"
   ]
  },
  {
   "cell_type": "code",
   "execution_count": 48,
   "metadata": {},
   "outputs": [],
   "source": [
    "#Parameters\n",
    "A = 1\n",
    "k = 0.5"
   ]
  },
  {
   "cell_type": "code",
   "execution_count": 49,
   "metadata": {},
   "outputs": [],
   "source": [
    "# Initial\n",
    "h0 = 4"
   ]
  },
  {
   "cell_type": "code",
   "execution_count": 50,
   "metadata": {},
   "outputs": [],
   "source": [
    "#Disturbance\n",
    "def Fi(t):\n",
    "    if t > 10:\n",
    "        return 4\n",
    "    else:\n",
    "        return 2"
   ]
  },
  {
   "cell_type": "code",
   "execution_count": 51,
   "metadata": {},
   "outputs": [],
   "source": [
    "def func(t,h):\n",
    "    dhdt = 1/A*(Fi(t) - k*h)\n",
    "    return dhdt"
   ]
  },
  {
   "cell_type": "code",
   "execution_count": 52,
   "metadata": {},
   "outputs": [],
   "source": [
    "tspan = (0,25)\n",
    "tsmooth = np.linspace(0,25)"
   ]
  },
  {
   "cell_type": "code",
   "execution_count": 53,
   "metadata": {},
   "outputs": [],
   "source": [
    "soln = scipy.integrate.solve_ivp(func,tspan,[h0],t_eval=tsmooth,max_step = 0.1)"
   ]
  },
  {
   "cell_type": "code",
   "execution_count": 54,
   "metadata": {},
   "outputs": [
    {
     "data": {
      "text/plain": [
       "[<matplotlib.lines.Line2D at 0x26ce61252c8>]"
      ]
     },
     "execution_count": 54,
     "metadata": {},
     "output_type": "execute_result"
    },
    {
     "data": {
      "image/png": "[encoded data removed]",
      "text/plain": [
       "<Figure size 432x288 with 1 Axes>"
      ]
     },
     "metadata": {
      "needs_background": "light"
     },
     "output_type": "display_data"
    }
   ],
   "source": [
    "plt.plot(soln.t,soln.y.T)"
   ]
  },
  {
   "cell_type": "markdown",
   "metadata": {},
   "source": [
    "Now in terms of deviation variables:"
   ]
  },
  {
   "cell_type": "code",
   "execution_count": 55,
   "metadata": {},
   "outputs": [],
   "source": [
    "def funcbar(t,hbar):\n",
    "    Fibar = Fi(t) - Fi(0)\n",
    "    dhbardt = 1/A*(Fibar - k*hbar)\n",
    "    return dhbardt"
   ]
  },
  {
   "cell_type": "code",
   "execution_count": 56,
   "metadata": {},
   "outputs": [],
   "source": [
    "solnbar = scipy.integrate.solve_ivp(funcbar,tspan,[0],t_eval=tsmooth,max_step = 0.1)"
   ]
  },
  {
   "cell_type": "code",
   "execution_count": 57,
   "metadata": {},
   "outputs": [
    {
     "data": {
      "text/plain": [
       "[<matplotlib.lines.Line2D at 0x26ce6221688>]"
      ]
     },
     "execution_count": 57,
     "metadata": {},
     "output_type": "execute_result"
    },
    {
     "data": {
      "image/png": "[encoded data removed]",
      "text/plain": [
       "<Figure size 432x288 with 1 Axes>"
      ]
     },
     "metadata": {
      "needs_background": "light"
     },
     "output_type": "display_data"
    }
   ],
   "source": [
    "plt.plot(solnbar.t,solnbar.y.T)"
   ]
  }
 ],
 "metadata": {
  "anaconda-cloud": {},
  "kernelspec": {
   "display_name": "Python 3",
   "language": "python",
   "name": "python3"
  },
  "language_info": {
   "codemirror_mode": {
    "name": "ipython",
    "version": 3
   },
   "file_extension": ".py",
   "mimetype": "text/x-python",
   "name": "python",
   "nbconvert_exporter": "python",
   "pygments_lexer": "ipython3",
   "version": "3.7.7"
  }
 },
 "nbformat": 4,
 "nbformat_minor": 4
}
