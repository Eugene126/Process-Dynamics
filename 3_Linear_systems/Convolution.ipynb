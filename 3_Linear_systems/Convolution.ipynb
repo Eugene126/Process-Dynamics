{
 "cells": [
  {
   "cell_type": "markdown",
   "metadata": {},
   "source": [
    "Convolution and transfer functions\n",
    "===================\n",
    "\n",
    "So far, we have calculated the response of systems by finding the Laplace transforms of the input and the system (transfer function), multiplying them and then finding the inverse Laplace transform of the result.\n",
    "\n",
    "<img width=\"200em\" src=\"transfer_function_block_diagram.png\">"
   ]
  },
  {
   "cell_type": "markdown",
   "metadata": {},
   "source": [
    "We have been using the idea that, with the nomenclature of the diagram shown above, \n",
    "\n",
    "$$ Y(s) = G(s) U(s). \\qquad(1) $$\n",
    "\n",
    "But, if we follow the nomenclature, then $\\mathcal{L}\\{u(t)\\} = U(s)$ and $\\mathcal{L}\\{y(t)\\} = Y(s)$ and similarly there is some $g(t)$ such that $\\mathcal{L}\\{g(t)\\} = G(s)$. So far we have not really used $g(t)$ explicitly, but we know that the time-domain version of equation 1 is given by\n",
    "\n",
    "$$ y(t) = (g * u)(t) $$\n",
    "\n",
    "where $*$ denotes [convolution](https://en.wikipedia.org/wiki/Convolution), which is defined by the following integral:\n",
    "\n",
    "$$ (g * u)(t) = \\int_{-\\infty}^\\infty g(\\tau) u(t - \\tau) \\mathrm{d} \\tau =  \\int_{-\\infty}^\\infty u(\\tau) g(t - \\tau) \\mathrm{d} \\tau$$\n",
    "\n",
    "Since we are primarily concerned with functions where both $g(t)=0$ and $u(t)=0$ for $t<0$, the integral bounds can be written as\n",
    "\n",
    "$$ (g * u)(t) = \\int_0^t g(\\tau) u(t - \\tau) \\mathrm{d} \\tau =  \\int_0^t u(\\tau) g(t - \\tau) \\mathrm{d} \\tau$$\n"
   ]
  },
  {
   "cell_type": "markdown",
   "metadata": {},
   "source": [
    "This gives us a whole new way to think about the response of a system to an input. Let's revisit the first order step response by thinking about convolution."
   ]
  },
  {
   "cell_type": "code",
   "execution_count": 1,
   "metadata": {},
   "outputs": [],
   "source": [
    "import sympy\n",
    "sympy.init_printing()\n",
    "%matplotlib inline"
   ]
  },
  {
   "cell_type": "code",
   "execution_count": 2,
   "metadata": {},
   "outputs": [],
   "source": [
    "s = sympy.Symbol('s')\n",
    "t = sympy.Symbol('t', real=True)\n",
    "tau = sympy.Symbol('tau', real=True, positive=True)"
   ]
  },
  {
   "cell_type": "markdown",
   "metadata": {},
   "source": [
    "We start by considering the first order transfer function:"
   ]
  },
  {
   "cell_type": "code",
   "execution_count": 3,
   "metadata": {},
   "outputs": [],
   "source": [
    "G = 1/(tau*s + 1)"
   ]
  },
  {
   "cell_type": "markdown",
   "metadata": {},
   "source": [
    "We can interpret g(t) as the *impulse response* of the system, since $\\mathcal{L}\\{\\delta(t)\\}=1$ (in words, the Laplace transform of the Dirac delta is one). So, if $u(t)=\\delta(t)$, then $U(s)=1$, so $Y(s)=G(s)$ and therefore $y(t)=g(t)$. \n",
    "\n",
    "This is what the impulse response of the first order system looks like with $\\tau=1$:"
   ]
  },
  {
   "cell_type": "code",
   "execution_count": 4,
   "metadata": {},
   "outputs": [
    {
     "data": {
      "image/png": "[encoded data removed]",
      "text/latex": [
       "$\\displaystyle e^{- t} \\theta\\left(t\\right)$"
      ],
      "text/plain": [
       " -t     \n",
       "ℯ  ⋅θ(t)"
      ]
     },
     "execution_count": 4,
     "metadata": {},
     "output_type": "execute_result"
    }
   ],
   "source": [
    "g = sympy.inverse_laplace_transform(G.subs({tau: 1}), s, t)\n",
    "g"
   ]
  },
  {
   "cell_type": "code",
   "execution_count": 5,
   "metadata": {},
   "outputs": [
    {
     "data": {
      "image/png": "[encoded data removed]",
      "text/plain": [
       "<Figure size 432x288 with 1 Axes>"
      ]
     },
     "metadata": {
      "needs_background": "light"
     },
     "output_type": "display_data"
    },
    {
     "data": {
      "text/plain": [
       "<sympy.plotting.plot.Plot at 0x1eae6cf1c08>"
      ]
     },
     "execution_count": 5,
     "metadata": {},
     "output_type": "execute_result"
    }
   ],
   "source": [
    "sympy.plot(g, (t, -1, 10))"
   ]
  },
  {
   "cell_type": "markdown",
   "metadata": {},
   "source": [
    "Earlier, we calculated the step response of the system by calculating $U(s)=\\frac{1}{s}$, therefore $Y(s) = \\frac{G(s)}{s}$ and then calculating the inverse Laplace:"
   ]
  },
  {
   "cell_type": "code",
   "execution_count": 6,
   "metadata": {},
   "outputs": [
    {
     "data": {
      "image/png": "[encoded data removed]",
      "text/latex": [
       "$\\displaystyle \\theta\\left(t\\right) - e^{- t} \\theta\\left(t\\right)$"
      ],
      "text/plain": [
       "        -t     \n",
       "θ(t) - ℯ  ⋅θ(t)"
      ]
     },
     "execution_count": 6,
     "metadata": {},
     "output_type": "execute_result"
    }
   ],
   "source": [
    "stepresponse = sympy.inverse_laplace_transform(G.subs({tau: 1})/s, s, t)\n",
    "stepresponse"
   ]
  },
  {
   "cell_type": "code",
   "execution_count": 7,
   "metadata": {},
   "outputs": [
    {
     "data": {
      "image/png": "[encoded data removed]",
      "text/plain": [
       "<Figure size 432x288 with 1 Axes>"
      ]
     },
     "metadata": {
      "needs_background": "light"
     },
     "output_type": "display_data"
    },
    {
     "data": {
      "text/plain": [
       "<sympy.plotting.plot.Plot at 0x1eae7438408>"
      ]
     },
     "execution_count": 7,
     "metadata": {},
     "output_type": "execute_result"
    }
   ],
   "source": [
    "sympy.plot(stepresponse, (t, -1, 10), ylim=(0, 1.1))"
   ]
  },
  {
   "cell_type": "markdown",
   "metadata": {},
   "source": [
    "We can get the same result by convolving the unit step function with the impulse response. Sympy doesn't handle the improper integral correctly here (as of the below version number):"
   ]
  },
  {
   "cell_type": "code",
   "execution_count": 8,
   "metadata": {},
   "outputs": [
    {
     "data": {
      "text/plain": [
       "'1.5.1'"
      ]
     },
     "execution_count": 8,
     "metadata": {},
     "output_type": "execute_result"
    }
   ],
   "source": [
    "sympy.__version__"
   ]
  },
  {
   "cell_type": "code",
   "execution_count": 9,
   "metadata": {},
   "outputs": [],
   "source": [
    "u = sympy.Heaviside(t)"
   ]
  },
  {
   "cell_type": "code",
   "execution_count": 10,
   "metadata": {},
   "outputs": [],
   "source": [
    "product = g.subs({t: tau})*u.subs({t: t - tau})"
   ]
  },
  {
   "cell_type": "code",
   "execution_count": 11,
   "metadata": {},
   "outputs": [
    {
     "data": {
      "image/png": "[encoded data removed]",
      "text/latex": [
       "$\\displaystyle \\infty$"
      ],
      "text/plain": [
       "∞"
      ]
     },
     "execution_count": 11,
     "metadata": {},
     "output_type": "execute_result"
    }
   ],
   "source": [
    "sympy.integrate(product, (tau, -sympy.oo, sympy.oo))"
   ]
  },
  {
   "cell_type": "markdown",
   "metadata": {},
   "source": [
    "But it does appear to work for the rewritten integral bounds:"
   ]
  },
  {
   "cell_type": "code",
   "execution_count": 12,
   "metadata": {},
   "outputs": [
    {
     "data": {
      "image/png": "[encoded data removed]",
      "text/latex": [
       "$\\displaystyle - \\left(-1 + e^{- t}\\right) \\theta\\left(t\\right)$"
      ],
      "text/plain": [
       " ⎛      -t⎞             \n",
       "-⎝-1 + ℯ  ⎠⋅Heaviside(t)"
      ]
     },
     "execution_count": 12,
     "metadata": {},
     "output_type": "execute_result"
    }
   ],
   "source": [
    "sympy.integrate(product, (tau, 0, t))"
   ]
  },
  {
   "cell_type": "markdown",
   "metadata": {},
   "source": [
    "### Numeric convolution"
   ]
  },
  {
   "cell_type": "markdown",
   "metadata": {},
   "source": [
    "sympy cannot evaluate the convolution integral for all impulse response functions, so it is often useful to do the convolution numerically."
   ]
  },
  {
   "cell_type": "markdown",
   "metadata": {},
   "source": [
    "The `numpy.convolve` function calculates the discrete convolution, that is\n",
    "\n",
    "$$ (g*u)[n] = \\sum_{m = -\\infty}^{\\infty} g[m] u[n - m] $$\n",
    "\n",
    "Let's compare that to the continuous convolution integral:\n",
    "\n",
    "$$(g*u)(t)\\int_{-\\infty}^{\\infty} g(\\tau) u(t - \\tau) \\mathrm{d} \\tau$$\n",
    "\n",
    "If we discretize this integral to a [Riemann sum](https://en.wikipedia.org/wiki/Riemann_sum) with a discrete time step $\\Delta t$, we obtain\n",
    "\n",
    "\\begin{align}\n",
    "(g*u)(n\\Delta t) &\\approx \\sum_{m = -\\infty}^{\\infty} g(m\\Delta t) u(n\\Delta t - m\\Delta t) \\Delta t \\\\\n",
    " &= \\sum_{m = -\\infty}^{\\infty} g[m] u[n - m] \\Delta t \\\\\n",
    " &= (g*u)[n] \\Delta t\n",
    " \\\\\n",
    "\\end{align}\n"
   ]
  },
  {
   "cell_type": "code",
   "execution_count": 13,
   "metadata": {},
   "outputs": [],
   "source": [
    "import numpy\n",
    "import matplotlib.pyplot as plt"
   ]
  },
  {
   "cell_type": "code",
   "execution_count": 14,
   "metadata": {},
   "outputs": [],
   "source": [
    "ts = numpy.linspace(0, 10, 200)\n",
    "Δt = ts[1]  # space between timesteps "
   ]
  },
  {
   "cell_type": "markdown",
   "metadata": {},
   "source": [
    "We evaluate the impulse response:"
   ]
  },
  {
   "cell_type": "code",
   "execution_count": 15,
   "metadata": {},
   "outputs": [],
   "source": [
    "gt = numpy.exp(-ts)"
   ]
  },
  {
   "cell_type": "code",
   "execution_count": 16,
   "metadata": {},
   "outputs": [],
   "source": [
    "ut = numpy.ones_like(ts)"
   ]
  },
  {
   "cell_type": "code",
   "execution_count": 17,
   "metadata": {},
   "outputs": [
    {
     "data": {
      "image/png": "[encoded data removed]",
      "text/latex": [
       "$\\displaystyle \\left( -0.04995233007374939, \\  1.1\\right)$"
      ],
      "text/plain": [
       "(-0.04995233007374939, 1.1)"
      ]
     },
     "execution_count": 17,
     "metadata": {},
     "output_type": "execute_result"
    },
    {
     "data": {
      "image/png": "[encoded data removed]",
      "text/plain": [
       "<Figure size 432x288 with 1 Axes>"
      ]
     },
     "metadata": {
      "needs_background": "light"
     },
     "output_type": "display_data"
    }
   ],
   "source": [
    "plt.plot(ts, ut, ts, gt)\n",
    "plt.ylim(ymax=1.1)"
   ]
  },
  {
   "cell_type": "markdown",
   "metadata": {},
   "source": [
    "Also notice that the default behaviour is for the convolution to be calculated over a larger time then originally, so this contains the step response up and down"
   ]
  },
  {
   "cell_type": "code",
   "execution_count": 18,
   "metadata": {},
   "outputs": [
    {
     "data": {
      "text/plain": [
       "[<matplotlib.lines.Line2D at 0x120ed6eb8>]"
      ]
     },
     "execution_count": 18,
     "metadata": {},
     "output_type": "execute_result"
    },
    {
     "data": {
      "image/png": "[encoded data removed]",
      "text/plain": [
       "<Figure size 432x288 with 1 Axes>"
      ]
     },
     "metadata": {
      "needs_background": "light"
     },
     "output_type": "display_data"
    }
   ],
   "source": [
    "full_convolution = numpy.convolve(gt, ut)\n",
    "plt.plot(full_convolution)"
   ]
  },
  {
   "cell_type": "markdown",
   "metadata": {},
   "source": [
    "To get the correct integral and just the first part, we can do this:"
   ]
  },
  {
   "cell_type": "code",
   "execution_count": 19,
   "metadata": {},
   "outputs": [],
   "source": [
    "yt = full_convolution[:len(ts)]*Δt"
   ]
  },
  {
   "cell_type": "code",
   "execution_count": 20,
   "metadata": {},
   "outputs": [
    {
     "data": {
      "text/plain": [
       "[<matplotlib.lines.Line2D at 0x120faa160>]"
      ]
     },
     "execution_count": 20,
     "metadata": {},
     "output_type": "execute_result"
    },
    {
     "data": {
      "image/png": "[encoded data removed]",
      "text/plain": [
       "<Figure size 432x288 with 1 Axes>"
      ]
     },
     "metadata": {
      "needs_background": "light"
     },
     "output_type": "display_data"
    }
   ],
   "source": [
    "plt.plot(ts, yt)"
   ]
  },
  {
   "cell_type": "markdown",
   "metadata": {},
   "source": [
    "Notice that this allows us to calculate the response of a system to an arbitrarily complex input numerically. It also gives us a whole new way to think about how a system will behave by thinking about what its impulse response looks like."
   ]
  }
 ],
 "metadata": {
  "anaconda-cloud": {},
  "kernelspec": {
   "display_name": "Python 3",
   "language": "python",
   "name": "python3"
  },
  "language_info": {
   "codemirror_mode": {
    "name": "ipython",
    "version": 3
   },
   "file_extension": ".py",
   "mimetype": "text/x-python",
   "name": "python",
   "nbconvert_exporter": "python",
   "pygments_lexer": "ipython3",
   "version": "3.7.7"
  }
 },
 "nbformat": 4,
 "nbformat_minor": 4
}
