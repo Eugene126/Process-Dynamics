{
 "cells": [
  {
   "cell_type": "markdown",
   "metadata": {},
   "source": [
    "## Laplace transforms in SymPy\n",
    "\n",
    "The Laplace transform is \n",
    "\n",
    "$$\\mathcal{L}\\{f(t)\\} = \\int_0^\\infty f(t) e^{-st} \\mathrm{d}t $$\n",
    "\n",
    "The Laplace transform is a transformation form the time-domain to the s-domain.\n",
    "$t$ as the independent variable is replaced with $s$ as the independent variable.\n",
    "\n",
    "#### Advantage:\n",
    "- Differentiation with respect to time becomes a multiplication by $s$. \n",
    "- Integration with respect to time becomes a division by $s$.\n",
    "- Convolution of two functions becomes the multiplication of the two functions.\n",
    "- The Laplace transform is a linear operation: $\\mathcal{L}\\{a f_1(t) + b f_2(t)\\} = a\\mathcal{L}\\{f_1(t)\\} + b\\mathcal{L}\\{f_2(t)\\}$\n",
    "\n",
    "#### Limitations:\n",
    "- The Laplace tranform only exists for functions for which the integral $\\mathcal{L}\\{f(t)\\} = \\int_0^\\infty f(t) e^{-st} \\mathrm{d}t $ is bounded."
   ]
  },
  {
   "cell_type": "code",
   "execution_count": 120,
   "metadata": {},
   "outputs": [],
   "source": [
    "import sympy\n",
    "sympy.init_printing()"
   ]
  },
  {
   "cell_type": "code",
   "execution_count": 121,
   "metadata": {},
   "outputs": [],
   "source": [
    "import matplotlib.pyplot as plt\n",
    "%matplotlib inline"
   ]
  },
  {
   "cell_type": "markdown",
   "metadata": {},
   "source": [
    "Let's define some symbols to work with. "
   ]
  },
  {
   "cell_type": "code",
   "execution_count": 122,
   "metadata": {},
   "outputs": [],
   "source": [
    "s = sympy.symbols('s')\n",
    "t = sympy.symbols('t', real=True)\n",
    "a = sympy.symbols('a', real=True, positive=True)"
   ]
  },
  {
   "cell_type": "markdown",
   "metadata": {},
   "source": [
    "### Direct evaluation"
   ]
  },
  {
   "cell_type": "markdown",
   "metadata": {},
   "source": [
    "We start with a simple function"
   ]
  },
  {
   "cell_type": "code",
   "execution_count": 123,
   "metadata": {},
   "outputs": [
    {
     "data": {
      "image/png": "[encoded data removed]",
      "text/latex": [
       "$\\displaystyle e^{- a t}$"
      ],
      "text/plain": [
       " -a⋅t\n",
       "ℯ    "
      ]
     },
     "execution_count": 123,
     "metadata": {},
     "output_type": "execute_result"
    }
   ],
   "source": [
    "f = sympy.exp(-a*t)\n",
    "f"
   ]
  },
  {
   "cell_type": "markdown",
   "metadata": {},
   "source": [
    "We can evaluate the integral directly using `integrate`:"
   ]
  },
  {
   "cell_type": "code",
   "execution_count": 124,
   "metadata": {},
   "outputs": [
    {
     "data": {
      "text/latex": [
       "$\\displaystyle \\begin{cases} \\frac{1}{s \\left(\\frac{a}{s} + 1\\right)} & \\text{for}\\: \\left|{\\arg{\\left(s \\right)}}\\right| \\leq \\frac{\\pi}{2} \\\\\\int\\limits_{0}^{\\infty} e^{- a t} e^{- s t}\\, dt & \\text{otherwise} \\end{cases}$"
      ],
      "text/plain": [
       "⎧       1                         π\n",
       "⎪   ─────────      for │arg(s)│ ≤ ─\n",
       "⎪     ⎛a    ⎞                     2\n",
       "⎪   s⋅⎜─ + 1⎟                      \n",
       "⎪     ⎝s    ⎠                      \n",
       "⎪                                  \n",
       "⎨∞                                 \n",
       "⎪⌠                                 \n",
       "⎪⎮  -a⋅t  -s⋅t                     \n",
       "⎪⎮ ℯ    ⋅ℯ     dt     otherwise    \n",
       "⎪⌡                                 \n",
       "⎪0                                 \n",
       "⎩                                  "
      ]
     },
     "execution_count": 124,
     "metadata": {},
     "output_type": "execute_result"
    }
   ],
   "source": [
    "sympy.integrate(f*sympy.exp(-s*t), (t, 0, sympy.oo))"
   ]
  },
  {
   "cell_type": "markdown",
   "metadata": {},
   "source": [
    "### Library function\n",
    "\n",
    "This works, but it is a bit cumbersome to have all the extra stuff in there. \n",
    "\n",
    "Sympy provides a function called `laplace_transform` which does this more efficiently. By default it will return conditions of convergence as well (recall this is an improper integral, with an infinite bound, so it will not always converge)."
   ]
  },
  {
   "cell_type": "code",
   "execution_count": 125,
   "metadata": {},
   "outputs": [
    {
     "data": {
      "text/latex": [
       "$\\displaystyle \\left( \\frac{1}{a + s}, \\  0, \\  \\text{True}\\right)$"
      ],
      "text/plain": [
       "⎛  1           ⎞\n",
       "⎜─────, 0, True⎟\n",
       "⎝a + s         ⎠"
      ]
     },
     "execution_count": 125,
     "metadata": {},
     "output_type": "execute_result"
    }
   ],
   "source": [
    "sympy.laplace_transform(f, t, s)"
   ]
  },
  {
   "cell_type": "markdown",
   "metadata": {},
   "source": [
    "If we want just the function, we can specify `noconds=True`."
   ]
  },
  {
   "cell_type": "code",
   "execution_count": 126,
   "metadata": {},
   "outputs": [
    {
     "data": {
      "image/png": "[encoded data removed]",
      "text/latex": [
       "$\\displaystyle \\frac{1}{a + s}$"
      ],
      "text/plain": [
       "  1  \n",
       "─────\n",
       "a + s"
      ]
     },
     "execution_count": 126,
     "metadata": {},
     "output_type": "execute_result"
    }
   ],
   "source": [
    "F = sympy.laplace_transform(f, t, s, noconds=True)\n",
    "F"
   ]
  },
  {
   "cell_type": "markdown",
   "metadata": {},
   "source": [
    "We will find it useful to define a quicker version of this:"
   ]
  },
  {
   "cell_type": "code",
   "execution_count": 127,
   "metadata": {},
   "outputs": [],
   "source": [
    "def L(f):\n",
    "    return sympy.laplace_transform(f, t, s, noconds=True)"
   ]
  },
  {
   "cell_type": "markdown",
   "metadata": {},
   "source": [
    "Inverses are simple as well,"
   ]
  },
  {
   "cell_type": "code",
   "execution_count": 128,
   "metadata": {},
   "outputs": [],
   "source": [
    "def invL(F):\n",
    "    return sympy.inverse_laplace_transform(F, s, t)"
   ]
  },
  {
   "cell_type": "code",
   "execution_count": 129,
   "metadata": {},
   "outputs": [
    {
     "data": {
      "image/png": "[encoded data removed]",
      "text/latex": [
       "$\\displaystyle e^{- a t} \\theta\\left(t\\right)$"
      ],
      "text/plain": [
       " -a⋅t     \n",
       "ℯ    ⋅θ(t)"
      ]
     },
     "execution_count": 129,
     "metadata": {},
     "output_type": "execute_result"
    }
   ],
   "source": [
    "invL(F)"
   ]
  },
  {
   "cell_type": "markdown",
   "metadata": {},
   "source": [
    "### What is that θ?"
   ]
  },
  {
   "cell_type": "markdown",
   "metadata": {},
   "source": [
    "The unit step function is also known as the Heaviside step function. We will see this function often in inverse laplace transforms. It is typeset as $\\theta(t)$ by sympy."
   ]
  },
  {
   "cell_type": "code",
   "execution_count": 130,
   "metadata": {},
   "outputs": [
    {
     "data": {
      "image/png": "[encoded data removed]",
      "text/latex": [
       "$\\displaystyle \\theta\\left(t\\right)$"
      ],
      "text/plain": [
       "θ(t)"
      ]
     },
     "execution_count": 130,
     "metadata": {},
     "output_type": "execute_result"
    }
   ],
   "source": [
    "sympy.Heaviside(t)"
   ]
  },
  {
   "cell_type": "code",
   "execution_count": 131,
   "metadata": {},
   "outputs": [
    {
     "data": {
      "image/png": "[encoded data removed]",
      "text/plain": [
       "<Figure size 432x288 with 1 Axes>"
      ]
     },
     "metadata": {
      "needs_background": "light"
     },
     "output_type": "display_data"
    }
   ],
   "source": [
    "sympy.plot(sympy.Heaviside(t));"
   ]
  },
  {
   "cell_type": "markdown",
   "metadata": {},
   "source": [
    "Look at the difference between $f$ and the inverse laplace transform we obtained, which contains the unit step to force it to zero before $t=0$."
   ]
  },
  {
   "cell_type": "code",
   "execution_count": 132,
   "metadata": {},
   "outputs": [
    {
     "data": {
      "image/png": "[encoded data removed]",
      "text/latex": [
       "$\\displaystyle e^{- 2 t} \\theta\\left(t\\right)$"
      ],
      "text/plain": [
       " -2⋅t     \n",
       "ℯ    ⋅θ(t)"
      ]
     },
     "execution_count": 132,
     "metadata": {},
     "output_type": "execute_result"
    }
   ],
   "source": [
    "invL(F).subs({a: 2})"
   ]
  },
  {
   "cell_type": "code",
   "execution_count": 133,
   "metadata": {},
   "outputs": [
    {
     "data": {
      "image/png": "[encoded data removed]",
      "text/plain": [
       "<Figure size 432x288 with 1 Axes>"
      ]
     },
     "metadata": {
      "needs_background": "light"
     },
     "output_type": "display_data"
    }
   ],
   "source": [
    "p = sympy.plot(f.subs({a: 2}), invL(F).subs({a: 2}), \n",
    "               xlim=(-1, 4), ylim=(0, 3), show=False)\n",
    "p[1].line_color = 'red'\n",
    "p.show()"
   ]
  },
  {
   "cell_type": "markdown",
   "metadata": {},
   "source": [
    "### Reproducing standard transform table"
   ]
  },
  {
   "cell_type": "markdown",
   "metadata": {},
   "source": [
    "Let's see if we can match the functions in the table"
   ]
  },
  {
   "cell_type": "code",
   "execution_count": 134,
   "metadata": {},
   "outputs": [
    {
     "data": {
      "image/png": "[encoded data removed]",
      "text/latex": [
       "$\\displaystyle \\left[ 1, \\  t, \\  e^{- a t}, \\  t e^{- a t}, \\  t^{2} e^{- a t}, \\  \\sin{\\left(\\omega t \\right)}, \\  \\cos{\\left(\\omega t \\right)}, \\  1 - e^{- a t}, \\  e^{- a t} \\sin{\\left(\\omega t \\right)}, \\  e^{- a t} \\cos{\\left(\\omega t \\right)}\\right]$"
      ],
      "text/plain": [
       "⎡       -a⋅t     -a⋅t   2  -a⋅t                           -a⋅t   -a⋅t         \n",
       "⎣1, t, ℯ    , t⋅ℯ    , t ⋅ℯ    , sin(ω⋅t), cos(ω⋅t), 1 - ℯ    , ℯ    ⋅sin(ω⋅t)\n",
       "\n",
       "   -a⋅t         ⎤\n",
       ", ℯ    ⋅cos(ω⋅t)⎦"
      ]
     },
     "execution_count": 134,
     "metadata": {},
     "output_type": "execute_result"
    }
   ],
   "source": [
    "omega = sympy.Symbol('omega', real=True)\n",
    "exp = sympy.exp\n",
    "sin = sympy.sin\n",
    "cos = sympy.cos\n",
    "functions = [1,\n",
    "         t,\n",
    "         exp(-a*t),\n",
    "         t*exp(-a*t),\n",
    "         t**2*exp(-a*t),\n",
    "         sin(omega*t),\n",
    "         cos(omega*t),\n",
    "         1 - exp(-a*t),\n",
    "         exp(-a*t)*sin(omega*t),\n",
    "         exp(-a*t)*cos(omega*t),\n",
    "         ]\n",
    "functions"
   ]
  },
  {
   "cell_type": "code",
   "execution_count": 135,
   "metadata": {},
   "outputs": [
    {
     "data": {
      "image/png": "[encoded data removed]",
      "text/latex": [
       "$\\displaystyle \\left[ \\frac{1}{s}, \\  \\frac{1}{s^{2}}, \\  \\frac{1}{a + s}, \\  \\frac{1}{\\left(a + s\\right)^{2}}, \\  \\frac{2}{\\left(a + s\\right)^{3}}, \\  \\frac{\\omega}{\\omega^{2} + s^{2}}, \\  \\frac{s}{\\omega^{2} + s^{2}}, \\  \\frac{a}{s \\left(a + s\\right)}, \\  \\frac{\\omega}{\\omega^{2} + \\left(a + s\\right)^{2}}, \\  \\frac{a + s}{\\omega^{2} + \\left(a + s\\right)^{2}}\\right]$"
      ],
      "text/plain": [
       "⎡1  1     1       1         2         ω        s         a            ω       \n",
       "⎢─, ──, ─────, ────────, ────────, ───────, ───────, ─────────, ─────────────,\n",
       "⎢s   2  a + s         2         3   2    2   2    2  s⋅(a + s)   2          2 \n",
       "⎣   s          (a + s)   (a + s)   ω  + s   ω  + s              ω  + (a + s)  \n",
       "\n",
       "     a + s    ⎤\n",
       " ─────────────⎥\n",
       "  2          2⎥\n",
       " ω  + (a + s) ⎦"
      ]
     },
     "execution_count": 135,
     "metadata": {},
     "output_type": "execute_result"
    }
   ],
   "source": [
    "Fs = [L(f) for f in functions]\n",
    "Fs"
   ]
  },
  {
   "cell_type": "markdown",
   "metadata": {},
   "source": [
    "We can make a pretty good approximation of the table with a little help from pandas"
   ]
  },
  {
   "cell_type": "code",
   "execution_count": 136,
   "metadata": {},
   "outputs": [],
   "source": [
    "from pandas import DataFrame"
   ]
  },
  {
   "cell_type": "code",
   "execution_count": 137,
   "metadata": {},
   "outputs": [],
   "source": [
    "def makelatex(args):\n",
    "    return [\"$${}$$\".format(sympy.latex(a)) for a in args]"
   ]
  },
  {
   "cell_type": "code",
   "execution_count": 138,
   "metadata": {},
   "outputs": [
    {
     "data": {
      "text/html": [
       "<div>\n",
       "<style scoped>\n",
       "    .dataframe tbody tr th:only-of-type {\n",
       "        vertical-align: middle;\n",
       "    }\n",
       "\n",
       "    .dataframe tbody tr th {\n",
       "        vertical-align: top;\n",
       "    }\n",
       "\n",
       "    .dataframe thead th {\n",
       "        text-align: right;\n",
       "    }\n",
       "</style>\n",
       "<table border=\"1\" class=\"dataframe\">\n",
       "  <thead>\n",
       "    <tr style=\"text-align: right;\">\n",
       "      <th></th>\n",
       "      <th>0</th>\n",
       "      <th>1</th>\n",
       "    </tr>\n",
       "  </thead>\n",
       "  <tbody>\n",
       "    <tr>\n",
       "      <th>0</th>\n",
       "      <td>$$1$$</td>\n",
       "      <td>$$\\frac{1}{s}$$</td>\n",
       "    </tr>\n",
       "    <tr>\n",
       "      <th>1</th>\n",
       "      <td>$$t$$</td>\n",
       "      <td>$$\\frac{1}{s^{2}}$$</td>\n",
       "    </tr>\n",
       "    <tr>\n",
       "      <th>2</th>\n",
       "      <td>$$e^{- a t}$$</td>\n",
       "      <td>$$\\frac{1}{a + s}$$</td>\n",
       "    </tr>\n",
       "    <tr>\n",
       "      <th>3</th>\n",
       "      <td>$$t e^{- a t}$$</td>\n",
       "      <td>$$\\frac{1}{\\left(a + s\\right)^{2}}$$</td>\n",
       "    </tr>\n",
       "    <tr>\n",
       "      <th>4</th>\n",
       "      <td>$$t^{2} e^{- a t}$$</td>\n",
       "      <td>$$\\frac{2}{\\left(a + s\\right)^{3}}$$</td>\n",
       "    </tr>\n",
       "    <tr>\n",
       "      <th>5</th>\n",
       "      <td>$$\\sin{\\left(\\omega t \\right)}$$</td>\n",
       "      <td>$$\\frac{\\omega}{\\omega^{2} + s^{2}}$$</td>\n",
       "    </tr>\n",
       "    <tr>\n",
       "      <th>6</th>\n",
       "      <td>$$\\cos{\\left(\\omega t \\right)}$$</td>\n",
       "      <td>$$\\frac{s}{\\omega^{2} + s^{2}}$$</td>\n",
       "    </tr>\n",
       "    <tr>\n",
       "      <th>7</th>\n",
       "      <td>$$1 - e^{- a t}$$</td>\n",
       "      <td>$$\\frac{a}{s \\left(a + s\\right)}$$</td>\n",
       "    </tr>\n",
       "    <tr>\n",
       "      <th>8</th>\n",
       "      <td>$$e^{- a t} \\sin{\\left(\\omega t \\right)}$$</td>\n",
       "      <td>$$\\frac{\\omega}{\\omega^{2} + \\left(a + s\\right...</td>\n",
       "    </tr>\n",
       "    <tr>\n",
       "      <th>9</th>\n",
       "      <td>$$e^{- a t} \\cos{\\left(\\omega t \\right)}$$</td>\n",
       "      <td>$$\\frac{a + s}{\\omega^{2} + \\left(a + s\\right)...</td>\n",
       "    </tr>\n",
       "  </tbody>\n",
       "</table>\n",
       "</div>"
      ],
      "text/plain": [
       "                                            0  \\\n",
       "0                                       $$1$$   \n",
       "1                                       $$t$$   \n",
       "2                               $$e^{- a t}$$   \n",
       "3                             $$t e^{- a t}$$   \n",
       "4                         $$t^{2} e^{- a t}$$   \n",
       "5            $$\\sin{\\left(\\omega t \\right)}$$   \n",
       "6            $$\\cos{\\left(\\omega t \\right)}$$   \n",
       "7                           $$1 - e^{- a t}$$   \n",
       "8  $$e^{- a t} \\sin{\\left(\\omega t \\right)}$$   \n",
       "9  $$e^{- a t} \\cos{\\left(\\omega t \\right)}$$   \n",
       "\n",
       "                                                   1  \n",
       "0                                    $$\\frac{1}{s}$$  \n",
       "1                                $$\\frac{1}{s^{2}}$$  \n",
       "2                                $$\\frac{1}{a + s}$$  \n",
       "3               $$\\frac{1}{\\left(a + s\\right)^{2}}$$  \n",
       "4               $$\\frac{2}{\\left(a + s\\right)^{3}}$$  \n",
       "5              $$\\frac{\\omega}{\\omega^{2} + s^{2}}$$  \n",
       "6                   $$\\frac{s}{\\omega^{2} + s^{2}}$$  \n",
       "7                 $$\\frac{a}{s \\left(a + s\\right)}$$  \n",
       "8  $$\\frac{\\omega}{\\omega^{2} + \\left(a + s\\right...  \n",
       "9  $$\\frac{a + s}{\\omega^{2} + \\left(a + s\\right)...  "
      ]
     },
     "execution_count": 138,
     "metadata": {},
     "output_type": "execute_result"
    }
   ],
   "source": [
    "DataFrame(list(zip(makelatex(functions), makelatex(Fs))))"
   ]
  },
  {
   "cell_type": "markdown",
   "metadata": {},
   "source": [
    "## Inverse Laplace transforms\n",
    "\n",
    "Now to solve the differential equation we will need to do the inverse Laplace transform to return to the time domain. However, it can be seen from the table above that there are not relationships for more complicated functions. This can be easily solved by converting higher order rational functions as sums of simpler ones. This will be achieved through partial fractions expansion.\n",
    "\n",
    "$$G(s) = \\frac{(s - z_1)(s - z_2)... (s - z_m)}{(s - p_1)(s - p_2)... (s - p_n)}$$\n",
    "\n",
    "- $z_i$ are the zeros of the system.\n",
    "- $p_i$ are the poles of the system.\n",
    "\n",
    "The number of poles has to be greater than the number of zeros for the system to be full realisable. (i.e $m \\leqslant n$)\n",
    "If you make a function with more zeros than poles you will have a term $s$ that cannot be converted back to the time domain and therefore the system in not physically realisable."
   ]
  },
  {
   "cell_type": "code",
   "execution_count": 139,
   "metadata": {},
   "outputs": [],
   "source": [
    "G0 = ((s + 1)*(s + 2)* (s + 3)* (s+1))/((s + 4)*(s + 5)*(s + 6))"
   ]
  },
  {
   "cell_type": "code",
   "execution_count": 140,
   "metadata": {},
   "outputs": [
    {
     "data": {
      "image/png": "[encoded data removed]",
      "text/latex": [
       "$\\displaystyle \\frac{\\left(s + 1\\right)^{2} \\left(s + 2\\right) \\left(s + 3\\right)}{\\left(s + 4\\right) \\left(s + 5\\right) \\left(s + 6\\right)}$"
      ],
      "text/plain": [
       "       2                \n",
       "(s + 1) ⋅(s + 2)⋅(s + 3)\n",
       "────────────────────────\n",
       "(s + 4)⋅(s + 5)⋅(s + 6) "
      ]
     },
     "execution_count": 140,
     "metadata": {},
     "output_type": "execute_result"
    }
   ],
   "source": [
    "G0"
   ]
  },
  {
   "cell_type": "code",
   "execution_count": 141,
   "metadata": {},
   "outputs": [
    {
     "data": {
      "image/png": "[encoded data removed]",
      "text/latex": [
       "$\\displaystyle s - 8 + \\frac{150}{s + 6} - \\frac{96}{s + 5} + \\frac{9}{s + 4}$"
      ],
      "text/plain": [
       "         150      96      9  \n",
       "s - 8 + ───── - ───── + ─────\n",
       "        s + 6   s + 5   s + 4"
      ]
     },
     "execution_count": 141,
     "metadata": {},
     "output_type": "execute_result"
    }
   ],
   "source": [
    "G0.apart(s)"
   ]
  },
  {
   "cell_type": "code",
   "execution_count": 142,
   "metadata": {},
   "outputs": [
    {
     "data": {
      "image/png": "[encoded data removed]",
      "text/latex": [
       "$\\displaystyle \\mathcal{L}^{-1}_{s}\\left[s\\right]\\left(t\\right)$"
      ],
      "text/plain": [
       "InverseLaplaceTransform(s, s, t, None)"
      ]
     },
     "execution_count": 142,
     "metadata": {},
     "output_type": "execute_result"
    }
   ],
   "source": [
    "invL(s)"
   ]
  },
  {
   "cell_type": "markdown",
   "metadata": {},
   "source": [
    "One can see that even the great sympy can help us here, so ensure that you always have more poles than zeros.\n",
    "\n",
    "#### Real and different roots\n",
    "These are systems where the characteristic equation can be factored into unique terms:\n",
    "\n",
    "$$G(s) = \\frac{s^2 - s - 6}{s^3 -2 s^2 - s + 2}$$\n",
    "The characteristic equation can be written:\n",
    "$$s^3 -2 s^2 - s + 2 = (s - 1)(s + 1)(s - 2)$$\n"
   ]
  },
  {
   "cell_type": "code",
   "execution_count": 143,
   "metadata": {},
   "outputs": [
    {
     "data": {
      "image/png": "[encoded data removed]",
      "text/latex": [
       "$\\displaystyle \\left(s - 2\\right) \\left(s - 1\\right) \\left(s + 1\\right)$"
      ],
      "text/plain": [
       "(s - 2)⋅(s - 1)⋅(s + 1)"
      ]
     },
     "execution_count": 143,
     "metadata": {},
     "output_type": "execute_result"
    }
   ],
   "source": [
    "G1 = (s**2 - s - 6)/(s**3 -2*s**2 - s + 2)\n",
    "sympy.denom(G1.factor())"
   ]
  },
  {
   "cell_type": "markdown",
   "metadata": {},
   "source": [
    "You can then determine the factor coefficients for the terms using the Heaviside expansion method:\n",
    "\n",
    "$$G(s) = \\frac{A}{s - 1} + \\frac{B}{s + 1} + \\frac{C}{s - 2}$$\n",
    "\n",
    "However sympy can also do this for us:\n"
   ]
  },
  {
   "cell_type": "code",
   "execution_count": 144,
   "metadata": {},
   "outputs": [
    {
     "data": {
      "image/png": "[encoded data removed]",
      "text/latex": [
       "$\\displaystyle - \\frac{2}{3 \\left(s + 1\\right)} + \\frac{3}{s - 1} - \\frac{4}{3 \\left(s - 2\\right)}$"
      ],
      "text/plain": [
       "      2         3         4    \n",
       "- ───────── + ───── - ─────────\n",
       "  3⋅(s + 1)   s - 1   3⋅(s - 2)"
      ]
     },
     "execution_count": 144,
     "metadata": {},
     "output_type": "execute_result"
    }
   ],
   "source": [
    "G1.apart(s)"
   ]
  },
  {
   "cell_type": "markdown",
   "metadata": {},
   "source": [
    "#### Repeated factors\n",
    "\n",
    "This is where a factor will appear more than once, the Heaviside expansion method will not be able to solve all three of the factors, so we will solve for two of them and the final factor we will solve by selecting a value for $s$ and solving the left and right side of the equations using the other two factor coefficients.\n",
    "\n",
    "However, sympy can also help us here:"
   ]
  },
  {
   "cell_type": "code",
   "execution_count": 145,
   "metadata": {},
   "outputs": [
    {
     "data": {
      "image/png": "[encoded data removed]",
      "text/latex": [
       "$\\displaystyle - \\frac{1}{s + 2} + \\frac{2}{s + 1} - \\frac{1}{\\left(s + 1\\right)^{2}}$"
      ],
      "text/plain": [
       "    1       2        1    \n",
       "- ───── + ───── - ────────\n",
       "  s + 2   s + 1          2\n",
       "                  (s + 1) "
      ]
     },
     "execution_count": 145,
     "metadata": {},
     "output_type": "execute_result"
    }
   ],
   "source": [
    "G2 = (s**2 + s*3 + 1)/((s+ 1)**2*(s + 2))\n",
    "G2.apart(s)"
   ]
  },
  {
   "cell_type": "markdown",
   "metadata": {},
   "source": [
    "#### Complex roots\n",
    "\n",
    "The Heaviside expansion will work for functions with complex factors, sympy can also handle it:\n"
   ]
  },
  {
   "cell_type": "code",
   "execution_count": 146,
   "metadata": {},
   "outputs": [
    {
     "data": {
      "image/png": "[encoded data removed]",
      "text/latex": [
       "$\\displaystyle \\frac{1}{s \\left(2 s^{2} + 2 s + 1\\right)}$"
      ],
      "text/plain": [
       "        1         \n",
       "──────────────────\n",
       "  ⎛   2          ⎞\n",
       "s⋅⎝2⋅s  + 2⋅s + 1⎠"
      ]
     },
     "execution_count": 146,
     "metadata": {},
     "output_type": "execute_result"
    }
   ],
   "source": [
    "G3 = 1/(s*(2*s**2 + s*2 + 1))\n",
    "G3"
   ]
  },
  {
   "cell_type": "code",
   "execution_count": 147,
   "metadata": {},
   "outputs": [
    {
     "data": {
      "image/png": "[encoded data removed]",
      "text/latex": [
       "$\\displaystyle - \\frac{2 \\left(s + 1\\right)}{2 s^{2} + 2 s + 1} + \\frac{1}{s}$"
      ],
      "text/plain": [
       "    2⋅(s + 1)      1\n",
       "- ────────────── + ─\n",
       "     2             s\n",
       "  2⋅s  + 2⋅s + 1    "
      ]
     },
     "execution_count": 147,
     "metadata": {},
     "output_type": "execute_result"
    }
   ],
   "source": [
    "G3.apart(s)"
   ]
  },
  {
   "cell_type": "markdown",
   "metadata": {},
   "source": [
    "We are left with a un-factored term, in this case we can do the following"
   ]
  },
  {
   "cell_type": "code",
   "execution_count": 148,
   "metadata": {},
   "outputs": [
    {
     "data": {
      "image/png": "[encoded data removed]",
      "text/latex": [
       "$\\displaystyle \\frac{- \\frac{1}{2} - \\frac{3 i}{2} + 2 \\left(- \\frac{1}{2} - \\frac{i}{2}\\right)^{2}}{s + \\frac{1}{2} + \\frac{i}{2}} + \\frac{- \\frac{1}{2} + 2 \\left(- \\frac{1}{2} + \\frac{i}{2}\\right)^{2} + \\frac{3 i}{2}}{s + \\frac{1}{2} - \\frac{i}{2}} + \\frac{1}{s}$"
      ],
      "text/plain": [
       "                       2                    2          \n",
       "  1   3⋅ⅈ     ⎛  1   ⅈ⎞      1     ⎛  1   ⅈ⎞    3⋅ⅈ    \n",
       "- ─ - ─── + 2⋅⎜- ─ - ─⎟    - ─ + 2⋅⎜- ─ + ─⎟  + ───    \n",
       "  2    2      ⎝  2   2⎠      2     ⎝  2   2⎠     2    1\n",
       "──────────────────────── + ──────────────────────── + ─\n",
       "           1   ⅈ                      1   ⅈ           s\n",
       "       s + ─ + ─                  s + ─ - ─            \n",
       "           2   2                      2   2            "
      ]
     },
     "execution_count": 148,
     "metadata": {},
     "output_type": "execute_result"
    }
   ],
   "source": [
    "G3.apart(full = True).doit()"
   ]
  },
  {
   "cell_type": "markdown",
   "metadata": {},
   "source": [
    "Now we can use know identities to convert from the Laplace domain back into the time domain.\n",
    "But we could also use sympy:"
   ]
  },
  {
   "cell_type": "code",
   "execution_count": 149,
   "metadata": {},
   "outputs": [
    {
     "data": {
      "image/png": "[encoded data removed]",
      "text/latex": [
       "$\\displaystyle - \\frac{\\left(4 e^{3 t} - 9 e^{2 t} + 2\\right) e^{- t} \\theta\\left(t\\right)}{3}$"
      ],
      "text/plain": [
       " ⎛   3⋅t      2⋅t    ⎞  -t      \n",
       "-⎝4⋅ℯ    - 9⋅ℯ    + 2⎠⋅ℯ  ⋅θ(t) \n",
       "────────────────────────────────\n",
       "               3                "
      ]
     },
     "execution_count": 149,
     "metadata": {},
     "output_type": "execute_result"
    }
   ],
   "source": [
    "invL(G1)"
   ]
  },
  {
   "cell_type": "code",
   "execution_count": 150,
   "metadata": {},
   "outputs": [
    {
     "data": {
      "image/png": "[encoded data removed]",
      "text/latex": [
       "$\\displaystyle - \\left(t e^{t} - 2 e^{t} + 1\\right) e^{- 2 t} \\theta\\left(t\\right)$"
      ],
      "text/plain": [
       " ⎛   t      t    ⎞  -2⋅t     \n",
       "-⎝t⋅ℯ  - 2⋅ℯ  + 1⎠⋅ℯ    ⋅θ(t)"
      ]
     },
     "execution_count": 150,
     "metadata": {},
     "output_type": "execute_result"
    }
   ],
   "source": [
    "invL(G2)"
   ]
  },
  {
   "cell_type": "code",
   "execution_count": 151,
   "metadata": {},
   "outputs": [
    {
     "data": {
      "image/png": "[encoded data removed]",
      "text/latex": [
       "$\\displaystyle \\frac{\\left(i \\left(e^{\\frac{t}{2}} \\cos{\\left(\\frac{t}{2} \\right)} \\Gamma\\left(- \\frac{1}{2} - \\frac{i}{2}\\right) \\Gamma\\left(\\frac{1}{2} + \\frac{i}{2}\\right) - e^{\\frac{t}{2}} \\cos{\\left(\\frac{t}{2} \\right)} \\Gamma\\left(- \\frac{1}{2} + \\frac{i}{2}\\right) \\Gamma\\left(\\frac{1}{2} - \\frac{i}{2}\\right)\\right) + e^{\\frac{t}{2}} \\sin{\\left(\\frac{t}{2} \\right)} \\Gamma\\left(- \\frac{1}{2} + \\frac{i}{2}\\right) \\Gamma\\left(\\frac{1}{2} - \\frac{i}{2}\\right) + e^{\\frac{t}{2}} \\sin{\\left(\\frac{t}{2} \\right)} \\Gamma\\left(- \\frac{1}{2} - \\frac{i}{2}\\right) \\Gamma\\left(\\frac{1}{2} + \\frac{i}{2}\\right) + 2 e^{t} \\Gamma\\left(\\frac{1}{2} - \\frac{i}{2}\\right) \\Gamma\\left(\\frac{1}{2} + \\frac{i}{2}\\right)\\right) e^{- t} \\cosh{\\left(\\frac{\\pi}{2} \\right)} \\theta\\left(t\\right)}{2 \\pi}$"
      ],
      "text/plain": [
       "⎛  ⎛ t                               t                           ⎞    t       \n",
       "⎜  ⎜ ─                               ─                           ⎟    ─       \n",
       "⎜  ⎜ 2    ⎛t⎞  ⎛  1   ⅈ⎞  ⎛1   ⅈ⎞    2    ⎛t⎞  ⎛  1   ⅈ⎞  ⎛1   ⅈ⎞⎟    2    ⎛t⎞\n",
       "⎜ⅈ⋅⎜ℯ ⋅cos⎜─⎟⋅Γ⎜- ─ - ─⎟⋅Γ⎜─ + ─⎟ - ℯ ⋅cos⎜─⎟⋅Γ⎜- ─ + ─⎟⋅Γ⎜─ - ─⎟⎟ + ℯ ⋅sin⎜─⎟\n",
       "⎝  ⎝      ⎝2⎠  ⎝  2   2⎠  ⎝2   2⎠         ⎝2⎠  ⎝  2   2⎠  ⎝2   2⎠⎠         ⎝2⎠\n",
       "──────────────────────────────────────────────────────────────────────────────\n",
       "                                                                              \n",
       "\n",
       "                        t                                                    ⎞\n",
       "                        ─                                                    ⎟\n",
       "  ⎛  1   ⅈ⎞  ⎛1   ⅈ⎞    2    ⎛t⎞  ⎛  1   ⅈ⎞  ⎛1   ⅈ⎞      t  ⎛1   ⅈ⎞  ⎛1   ⅈ⎞⎟\n",
       "⋅Γ⎜- ─ + ─⎟⋅Γ⎜─ - ─⎟ + ℯ ⋅sin⎜─⎟⋅Γ⎜- ─ - ─⎟⋅Γ⎜─ + ─⎟ + 2⋅ℯ ⋅Γ⎜─ - ─⎟⋅Γ⎜─ + ─⎟⎟\n",
       "  ⎝  2   2⎠  ⎝2   2⎠         ⎝2⎠  ⎝  2   2⎠  ⎝2   2⎠         ⎝2   2⎠  ⎝2   2⎠⎠\n",
       "──────────────────────────────────────────────────────────────────────────────\n",
       "       2⋅π                                                                    \n",
       "\n",
       "                 \n",
       "                 \n",
       "  -t     ⎛π⎞     \n",
       "⋅ℯ  ⋅cosh⎜─⎟⋅θ(t)\n",
       "         ⎝2⎠     \n",
       "─────────────────\n",
       "                 "
      ]
     },
     "execution_count": 151,
     "metadata": {},
     "output_type": "execute_result"
    }
   ],
   "source": [
    "invL(G3)"
   ]
  },
  {
   "cell_type": "markdown",
   "metadata": {},
   "source": [
    "Let's try simplify that."
   ]
  },
  {
   "cell_type": "code",
   "execution_count": 152,
   "metadata": {},
   "outputs": [
    {
     "data": {
      "image/png": "[encoded data removed]",
      "text/latex": [
       "$\\displaystyle - \\left(- e^{\\frac{t}{2}} + \\sin{\\left(\\frac{t}{2} \\right)} + \\cos{\\left(\\frac{t}{2} \\right)}\\right) e^{- \\frac{t}{2}} \\theta\\left(t\\right)$"
      ],
      "text/plain": [
       " ⎛   t                  ⎞  -t      \n",
       " ⎜   ─                  ⎟  ───     \n",
       " ⎜   2      ⎛t⎞      ⎛t⎞⎟   2      \n",
       "-⎜- ℯ  + sin⎜─⎟ + cos⎜─⎟⎟⋅ℯ   ⋅θ(t)\n",
       " ⎝          ⎝2⎠      ⎝2⎠⎠          "
      ]
     },
     "execution_count": 152,
     "metadata": {},
     "output_type": "execute_result"
    }
   ],
   "source": [
    "invL(G3).simplify()"
   ]
  },
  {
   "cell_type": "markdown",
   "metadata": {},
   "source": [
    "That is far better."
   ]
  },
  {
   "cell_type": "markdown",
   "metadata": {},
   "source": [
    "### Dead time\n",
    "\n",
    "Sympy is also able to handle dead time:"
   ]
  },
  {
   "cell_type": "code",
   "execution_count": 154,
   "metadata": {},
   "outputs": [
    {
     "data": {
      "image/png": "[encoded data removed]",
      "text/latex": [
       "$\\displaystyle \\frac{1}{\\left(3 s + 1\\right) \\left(4 s + 1\\right)}$"
      ],
      "text/plain": [
       "         1         \n",
       "───────────────────\n",
       "(3⋅s + 1)⋅(4⋅s + 1)"
      ]
     },
     "execution_count": 154,
     "metadata": {},
     "output_type": "execute_result"
    }
   ],
   "source": [
    "F = ( 1)/((4*s + 1)*(3*s + 1))\n",
    "F"
   ]
  },
  {
   "cell_type": "code",
   "execution_count": 156,
   "metadata": {},
   "outputs": [
    {
     "data": {
      "image/png": "[encoded data removed]",
      "text/latex": [
       "$\\displaystyle \\frac{e^{- 2 s}}{\\left(3 s + 1\\right) \\left(4 s + 1\\right)}$"
      ],
      "text/plain": [
       "        -2⋅s       \n",
       "       ℯ           \n",
       "───────────────────\n",
       "(3⋅s + 1)⋅(4⋅s + 1)"
      ]
     },
     "execution_count": 156,
     "metadata": {},
     "output_type": "execute_result"
    }
   ],
   "source": [
    "Fd = ( sympy.exp(-2*s))/((4*s + 1)*(3*s + 1))\n",
    "Fd"
   ]
  },
  {
   "cell_type": "code",
   "execution_count": 157,
   "metadata": {},
   "outputs": [],
   "source": [
    "f = invL(F)\n",
    "fd = invL(Fd)"
   ]
  },
  {
   "cell_type": "markdown",
   "metadata": {},
   "source": [
    "The plotting function in sympy is very handy to visualise the functions you are working with."
   ]
  },
  {
   "cell_type": "code",
   "execution_count": 164,
   "metadata": {},
   "outputs": [
    {
     "data": {
      "image/png": "[encoded data removed]",
      "text/plain": [
       "<Figure size 432x288 with 1 Axes>"
      ]
     },
     "metadata": {
      "needs_background": "light"
     },
     "output_type": "display_data"
    }
   ],
   "source": [
    "p = sympy.plot(f,fd,show = False)\n",
    "p[1].line_color = 'red'\n",
    "p.show()"
   ]
  }
 ],
 "metadata": {
  "anaconda-cloud": {},
  "kernelspec": {
   "display_name": "Python 3",
   "language": "python",
   "name": "python3"
  },
  "language_info": {
   "codemirror_mode": {
    "name": "ipython",
    "version": 3
   },
   "file_extension": ".py",
   "mimetype": "text/x-python",
   "name": "python",
   "nbconvert_exporter": "python",
   "pygments_lexer": "ipython3",
   "version": "3.7.7"
  }
 },
 "nbformat": 4,
 "nbformat_minor": 4
}
