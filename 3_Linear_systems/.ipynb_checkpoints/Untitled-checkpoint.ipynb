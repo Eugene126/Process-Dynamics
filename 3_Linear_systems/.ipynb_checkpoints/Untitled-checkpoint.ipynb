{
 "cells": [
  {
   "cell_type": "code",
   "execution_count": 1,
   "metadata": {},
   "outputs": [],
   "source": [
    "import sympy as sy"
   ]
  },
  {
   "cell_type": "code",
   "execution_count": 16,
   "metadata": {},
   "outputs": [],
   "source": [
    "s = sy.Symbol('s')\n",
    "t = sy.Symbol('t', real = True)"
   ]
  },
  {
   "cell_type": "code",
   "execution_count": 17,
   "metadata": {},
   "outputs": [
    {
     "data": {
      "text/latex": [
       "$\\displaystyle s^{3} + 6 s^{2} + 11 s + 6$"
      ],
      "text/plain": [
       "s**3 + 6*s**2 + 11*s + 6"
      ]
     },
     "execution_count": 17,
     "metadata": {},
     "output_type": "execute_result"
    }
   ],
   "source": [
    "eq = s**3 + 6*s**2 + 11*s + 6\n",
    "eq"
   ]
  },
  {
   "cell_type": "code",
   "execution_count": 18,
   "metadata": {},
   "outputs": [],
   "source": [
    "eq2 = 1/(s * eq)"
   ]
  },
  {
   "cell_type": "code",
   "execution_count": 19,
   "metadata": {},
   "outputs": [
    {
     "data": {
      "text/latex": [
       "$\\displaystyle \\frac{1}{s \\left(s^{3} + 6 s^{2} + 11 s + 6\\right)}$"
      ],
      "text/plain": [
       "1/(s*(s**3 + 6*s**2 + 11*s + 6))"
      ]
     },
     "execution_count": 19,
     "metadata": {},
     "output_type": "execute_result"
    }
   ],
   "source": [
    "eq2"
   ]
  },
  {
   "cell_type": "code",
   "execution_count": 20,
   "metadata": {},
   "outputs": [],
   "source": [
    "eq3 = eq2.factor()"
   ]
  },
  {
   "cell_type": "code",
   "execution_count": 21,
   "metadata": {},
   "outputs": [
    {
     "data": {
      "text/latex": [
       "$\\displaystyle \\frac{1}{s \\left(s + 1\\right) \\left(s + 2\\right) \\left(s + 3\\right)}$"
      ],
      "text/plain": [
       "1/(s*(s + 1)*(s + 2)*(s + 3))"
      ]
     },
     "execution_count": 21,
     "metadata": {},
     "output_type": "execute_result"
    }
   ],
   "source": [
    "\n",
    "eq3"
   ]
  },
  {
   "cell_type": "code",
   "execution_count": 22,
   "metadata": {},
   "outputs": [
    {
     "data": {
      "text/latex": [
       "$\\displaystyle - \\frac{1}{4 \\left(s + 2\\right)} + \\frac{1}{2 \\left(s + 2\\right)^{2}} + \\frac{1}{4 s}$"
      ],
      "text/plain": [
       "-1/(4*(s + 2)) + 1/(2*(s + 2)**2) + 1/(4*s)"
      ]
     },
     "execution_count": 22,
     "metadata": {},
     "output_type": "execute_result"
    }
   ],
   "source": [
    "Y = (s+ 1)/(s*(s**2 + 4*s + 4))\n",
    "\n",
    "Y.apart()"
   ]
  },
  {
   "cell_type": "code",
   "execution_count": 23,
   "metadata": {},
   "outputs": [],
   "source": [
    "Y = (s+ 1)/(s**2*(s**2 + 4*s + 5))\n",
    "\n",
    "X = Y.apart() - 1/(25*s) - 1/(5*s**2)"
   ]
  },
  {
   "cell_type": "code",
   "execution_count": 24,
   "metadata": {},
   "outputs": [
    {
     "data": {
      "text/latex": [
       "$\\displaystyle \\frac{s + 1}{s^{2} \\left(s^{2} + 4 s + 5\\right)}$"
      ],
      "text/plain": [
       "(s + 1)/(s**2*(s**2 + 4*s + 5))"
      ]
     },
     "execution_count": 24,
     "metadata": {},
     "output_type": "execute_result"
    }
   ],
   "source": [
    "Z = Y.apart(full = True).doit()\n",
    "Z.simplify()"
   ]
  },
  {
   "cell_type": "code",
   "execution_count": 25,
   "metadata": {},
   "outputs": [
    {
     "data": {
      "text/latex": [
       "$\\displaystyle \\frac{\\left(5 t e^{2 t} + e^{2 t} - 7 \\sin{\\left(t \\right)} - \\cos{\\left(t \\right)}\\right) e^{- 2 t} \\theta\\left(t\\right)}{25}$"
      ],
      "text/plain": [
       "(5*t*exp(2*t) + exp(2*t) - 7*sin(t) - cos(t))*exp(-2*t)*Heaviside(t)/25"
      ]
     },
     "execution_count": 25,
     "metadata": {},
     "output_type": "execute_result"
    }
   ],
   "source": [
    "sy.inverse_laplace_transform(Z,s,t)"
   ]
  },
  {
   "cell_type": "code",
   "execution_count": 26,
   "metadata": {},
   "outputs": [],
   "source": [
    "z = 1/25*(s+ 9)/((s + 2)**2 + 5 - 4)"
   ]
  },
  {
   "cell_type": "code",
   "execution_count": 27,
   "metadata": {},
   "outputs": [
    {
     "data": {
      "text/latex": [
       "$\\displaystyle \\frac{0.04 s + 0.36}{\\left(s + 2\\right)^{2} + 1}$"
      ],
      "text/plain": [
       "(0.04*s + 0.36)/((s + 2)**2 + 1)"
      ]
     },
     "execution_count": 27,
     "metadata": {},
     "output_type": "execute_result"
    }
   ],
   "source": [
    "z"
   ]
  },
  {
   "cell_type": "code",
   "execution_count": 28,
   "metadata": {},
   "outputs": [
    {
     "data": {
      "text/latex": [
       "$\\displaystyle \\frac{8}{s \\left(s^{3} + 6 s^{2} + 11 s + 6\\right)}$"
      ],
      "text/plain": [
       "8/(s*(s**3 + 6*s**2 + 11*s + 6))"
      ]
     },
     "execution_count": 28,
     "metadata": {},
     "output_type": "execute_result"
    }
   ],
   "source": [
    "w = 8/(s*(s**3 + 6*s**2 + 11*s + 6))\n",
    "w"
   ]
  },
  {
   "cell_type": "code",
   "execution_count": 29,
   "metadata": {},
   "outputs": [
    {
     "data": {
      "text/latex": [
       "$\\displaystyle - \\frac{4}{3 \\left(s + 3\\right)} + \\frac{4}{s + 2} - \\frac{4}{s + 1} + \\frac{4}{3 s}$"
      ],
      "text/plain": [
       "-4/(3*(s + 3)) + 4/(s + 2) - 4/(s + 1) + 4/(3*s)"
      ]
     },
     "execution_count": 29,
     "metadata": {},
     "output_type": "execute_result"
    }
   ],
   "source": [
    "w.apart()"
   ]
  },
  {
   "cell_type": "code",
   "execution_count": 30,
   "metadata": {},
   "outputs": [
    {
     "data": {
      "image/png": "[encoded data removed]",
      "text/plain": [
       "<Figure size 432x288 with 1 Axes>"
      ]
     },
     "metadata": {
      "needs_background": "light"
     },
     "output_type": "display_data"
    },
    {
     "data": {
      "text/plain": [
       "<sympy.plotting.plot.Plot at 0x273e2515208>"
      ]
     },
     "execution_count": 30,
     "metadata": {},
     "output_type": "execute_result"
    }
   ],
   "source": [
    "sy.plot(w)"
   ]
  },
  {
   "cell_type": "code",
   "execution_count": 31,
   "metadata": {},
   "outputs": [],
   "source": [
    "W = sy.inverse_laplace_transform(w,s,t)"
   ]
  },
  {
   "cell_type": "code",
   "execution_count": 33,
   "metadata": {},
   "outputs": [
    {
     "data": {
      "image/png": "[encoded data removed]",
      "text/plain": [
       "<Figure size 432x288 with 1 Axes>"
      ]
     },
     "metadata": {
      "needs_background": "light"
     },
     "output_type": "display_data"
    },
    {
     "data": {
      "text/plain": [
       "<sympy.plotting.plot.Plot at 0x273e4b4cb88>"
      ]
     },
     "execution_count": 33,
     "metadata": {},
     "output_type": "execute_result"
    }
   ],
   "source": [
    "sy.plot(W)"
   ]
  },
  {
   "cell_type": "code",
   "execution_count": 18,
   "metadata": {},
   "outputs": [
    {
     "data": {
      "text/latex": [
       "$\\displaystyle \\frac{e^{- 2 s}}{\\left(3 s + 1\\right) \\left(4 s + 1\\right)}$"
      ],
      "text/plain": [
       "exp(-2*s)/((3*s + 1)*(4*s + 1))"
      ]
     },
     "execution_count": 18,
     "metadata": {},
     "output_type": "execute_result"
    }
   ],
   "source": [
    "F = ( sy.exp(-2*s))/((4*s + 1)*(3*s + 1))\n",
    "F"
   ]
  },
  {
   "cell_type": "code",
   "execution_count": 19,
   "metadata": {},
   "outputs": [],
   "source": [
    "# F2 = F.subs(F.args[2].args[1],(1 - s)/(1 + 1))"
   ]
  },
  {
   "cell_type": "code",
   "execution_count": 20,
   "metadata": {},
   "outputs": [],
   "source": [
    "f = sy.inverse_laplace_transform(F,s,t)"
   ]
  },
  {
   "cell_type": "code",
   "execution_count": 21,
   "metadata": {},
   "outputs": [
    {
     "data": {
      "image/png": "[encoded data removed]",
      "text/plain": [
       "<Figure size 432x288 with 1 Axes>"
      ]
     },
     "metadata": {
      "needs_background": "light"
     },
     "output_type": "display_data"
    },
    {
     "data": {
      "text/plain": [
       "<sympy.plotting.plot.Plot at 0x24d6c420a88>"
      ]
     },
     "execution_count": 21,
     "metadata": {},
     "output_type": "execute_result"
    }
   ],
   "source": [
    "sy.plot(f,(t,0,10))"
   ]
  },
  {
   "cell_type": "code",
   "execution_count": 22,
   "metadata": {},
   "outputs": [
    {
     "data": {
      "text/latex": [
       "$\\displaystyle - \\frac{\\left(- \\sqrt{6} + \\sqrt{2}\\right) \\left(\\frac{e^{\\frac{t}{4} + \\frac{2}{3}} \\Gamma\\left(- \\frac{1}{12}\\right)}{12} + e^{\\frac{t}{3} + \\frac{1}{2}} \\Gamma\\left(\\frac{11}{12}\\right)\\right) e^{- \\frac{7 t}{12}} \\theta\\left(t - 2\\right) \\Gamma\\left(\\frac{1}{12}\\right)}{4 \\pi}$"
      ],
      "text/plain": [
       "-(-sqrt(6) + sqrt(2))*(exp(t/4 + 2/3)*gamma(-1/12)/12 + exp(t/3 + 1/2)*gamma(11/12))*exp(-7*t/12)*Heaviside(t - 2)*gamma(1/12)/(4*pi)"
      ]
     },
     "execution_count": 22,
     "metadata": {},
     "output_type": "execute_result"
    }
   ],
   "source": [
    "f"
   ]
  },
  {
   "cell_type": "code",
   "execution_count": 23,
   "metadata": {},
   "outputs": [
    {
     "data": {
      "text/latex": [
       "$\\displaystyle \\frac{1}{s \\left(2 s^{2} + 2 s + 1\\right)}$"
      ],
      "text/plain": [
       "1/(s*(2*s**2 + 2*s + 1))"
      ]
     },
     "execution_count": 23,
     "metadata": {},
     "output_type": "execute_result"
    }
   ],
   "source": [
    "Y = 1/(s*(2*s**2 + 2*s + 1))\n",
    "Y"
   ]
  },
  {
   "cell_type": "code",
   "execution_count": 29,
   "metadata": {},
   "outputs": [
    {
     "data": {
      "text/latex": [
       "$\\displaystyle \\frac{- \\frac{1}{2} - \\frac{3 i}{2} + 2 \\left(- \\frac{1}{2} - \\frac{i}{2}\\right)^{2}}{s + \\frac{1}{2} + \\frac{i}{2}} + \\frac{- \\frac{1}{2} + 2 \\left(- \\frac{1}{2} + \\frac{i}{2}\\right)^{2} + \\frac{3 i}{2}}{s + \\frac{1}{2} - \\frac{i}{2}} + \\frac{1}{s}$"
      ],
      "text/plain": [
       "(-1/2 - 3*I/2 + 2*(-1/2 - I/2)**2)/(s + 1/2 + I/2) + (-1/2 + 2*(-1/2 + I/2)**2 + 3*I/2)/(s + 1/2 - I/2) + 1/s"
      ]
     },
     "execution_count": 29,
     "metadata": {},
     "output_type": "execute_result"
    }
   ],
   "source": [
    "Y.apart(full = True).doit()"
   ]
  },
  {
   "cell_type": "code",
   "execution_count": 27,
   "metadata": {},
   "outputs": [
    {
     "data": {
      "text/plain": [
       "\u001b[1;31mSignature:\u001b[0m \u001b[0msy\u001b[0m\u001b[1;33m.\u001b[0m\u001b[0mapart\u001b[0m\u001b[1;33m(\u001b[0m\u001b[0mf\u001b[0m\u001b[1;33m,\u001b[0m \u001b[0mx\u001b[0m\u001b[1;33m=\u001b[0m\u001b[1;32mNone\u001b[0m\u001b[1;33m,\u001b[0m \u001b[0mfull\u001b[0m\u001b[1;33m=\u001b[0m\u001b[1;32mFalse\u001b[0m\u001b[1;33m,\u001b[0m \u001b[1;33m**\u001b[0m\u001b[0moptions\u001b[0m\u001b[1;33m)\u001b[0m\u001b[1;33m\u001b[0m\u001b[1;33m\u001b[0m\u001b[0m\n",
       "\u001b[1;31mDocstring:\u001b[0m\n",
       "Compute partial fraction decomposition of a rational function.\n",
       "\n",
       "Given a rational function ``f``, computes the partial fraction\n",
       "decomposition of ``f``. Two algorithms are available: One is based on the\n",
       "undertermined coefficients method, the other is Bronstein's full partial\n",
       "fraction decomposition algorithm.\n",
       "\n",
       "The undetermined coefficients method (selected by ``full=False``) uses\n",
       "polynomial factorization (and therefore accepts the same options as\n",
       "factor) for the denominator. Per default it works over the rational\n",
       "numbers, therefore decomposition of denominators with non-rational roots\n",
       "(e.g. irrational, complex roots) is not supported by default (see options\n",
       "of factor).\n",
       "\n",
       "Bronstein's algorithm can be selected by using ``full=True`` and allows a\n",
       "decomposition of denominators with non-rational roots. A human-readable\n",
       "result can be obtained via ``doit()`` (see examples below).\n",
       "\n",
       "Examples\n",
       "========\n",
       "\n",
       ">>> from sympy.polys.partfrac import apart\n",
       ">>> from sympy.abc import x, y\n",
       "\n",
       "By default, using the undetermined coefficients method:\n",
       "\n",
       ">>> apart(y/(x + 2)/(x + 1), x)\n",
       "-y/(x + 2) + y/(x + 1)\n",
       "\n",
       "The undetermined coefficients method does not provide a result when the\n",
       "denominators roots are not rational:\n",
       "\n",
       ">>> apart(y/(x**2 + x + 1), x)\n",
       "y/(x**2 + x + 1)\n",
       "\n",
       "You can choose Bronstein's algorithm by setting ``full=True``:\n",
       "\n",
       ">>> apart(y/(x**2 + x + 1), x, full=True)\n",
       "RootSum(_w**2 + _w + 1, Lambda(_a, (-2*_a*y/3 - y/3)/(-_a + x)))\n",
       "\n",
       "Calling ``doit()`` yields a human-readable result:\n",
       "\n",
       ">>> apart(y/(x**2 + x + 1), x, full=True).doit()\n",
       "(-y/3 - 2*y*(-1/2 - sqrt(3)*I/2)/3)/(x + 1/2 + sqrt(3)*I/2) + (-y/3 -\n",
       "    2*y*(-1/2 + sqrt(3)*I/2)/3)/(x + 1/2 - sqrt(3)*I/2)\n",
       "\n",
       "\n",
       "See Also\n",
       "========\n",
       "\n",
       "apart_list, assemble_partfrac_list\n",
       "\u001b[1;31mFile:\u001b[0m      c:\\users\\reube\\anaconda3\\lib\\site-packages\\sympy\\polys\\partfrac.py\n",
       "\u001b[1;31mType:\u001b[0m      function\n"
      ]
     },
     "metadata": {},
     "output_type": "display_data"
    }
   ],
   "source": [
    "sy.apart?"
   ]
  },
  {
   "cell_type": "code",
   "execution_count": 45,
   "metadata": {},
   "outputs": [
    {
     "data": {
      "text/latex": [
       "$\\displaystyle \\frac{2 s}{\\left(s^{2} + 1\\right)^{2}}$"
      ],
      "text/plain": [
       "2*s/(s**2 + 1)**2"
      ]
     },
     "execution_count": 45,
     "metadata": {},
     "output_type": "execute_result"
    }
   ],
   "source": [
    "a = 2*s/(s**2 + 1)**2\n",
    "a"
   ]
  },
  {
   "cell_type": "code",
   "execution_count": 46,
   "metadata": {},
   "outputs": [
    {
     "data": {
      "text/latex": [
       "$\\displaystyle t \\sin{\\left(t \\right)}$"
      ],
      "text/plain": [
       "t*sin(t)"
      ]
     },
     "execution_count": 46,
     "metadata": {},
     "output_type": "execute_result"
    }
   ],
   "source": [
    "sy.inverse_laplace_transform(a,s,t)"
   ]
  },
  {
   "cell_type": "code",
   "execution_count": 47,
   "metadata": {},
   "outputs": [
    {
     "ename": "AttributeError",
     "evalue": "module 'sympy' has no attribute 'eq'",
     "output_type": "error",
     "traceback": [
      "\u001b[1;31m---------------------------------------------------------------------------\u001b[0m",
      "\u001b[1;31mAttributeError\u001b[0m                            Traceback (most recent call last)",
      "\u001b[1;32m<ipython-input-47-e7166800bc4b>\u001b[0m in \u001b[0;36m<module>\u001b[1;34m\u001b[0m\n\u001b[1;32m----> 1\u001b[1;33m \u001b[0msy\u001b[0m\u001b[1;33m.\u001b[0m\u001b[0meq\u001b[0m\u001b[1;33m(\u001b[0m\u001b[1;33m)\u001b[0m\u001b[1;33m\u001b[0m\u001b[1;33m\u001b[0m\u001b[0m\n\u001b[0m",
      "\u001b[1;31mAttributeError\u001b[0m: module 'sympy' has no attribute 'eq'"
     ]
    }
   ],
   "source": [
    "h = sy.function()\n",
    "sy.expr()"
   ]
  },
  {
   "cell_type": "code",
   "execution_count": null,
   "metadata": {},
   "outputs": [],
   "source": []
  }
 ],
 "metadata": {
  "kernelspec": {
   "display_name": "Python 3",
   "language": "python",
   "name": "python3"
  },
  "language_info": {
   "codemirror_mode": {
    "name": "ipython",
    "version": 3
   },
   "file_extension": ".py",
   "mimetype": "text/x-python",
   "name": "python",
   "nbconvert_exporter": "python",
   "pygments_lexer": "ipython3",
   "version": "3.7.7"
  }
 },
 "nbformat": 4,
 "nbformat_minor": 4
}
