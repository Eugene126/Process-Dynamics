{
 "cells": [
  {
   "cell_type": "code",
   "execution_count": 1,
   "metadata": {},
   "outputs": [],
   "source": [
    "import sympy\n",
    "sympy.init_printing()\n",
    "%matplotlib inline"
   ]
  },
  {
   "cell_type": "markdown",
   "metadata": {},
   "source": [
    "# Sinusoidal response\n",
    "\n",
    "In this notebook we will look at the response of first and second order systems to sinusoidal inputs. Recall that we always assume inputs were zero for times less than zero, so in fact the input looks like this:\n",
    "\n",
    "$$u_{sin}(t) = \\begin{cases}0 & t<0\\\\A\\sin(\\omega t) & t \\geq 0 \\end{cases}$$"
   ]
  },
  {
   "cell_type": "markdown",
   "metadata": {},
   "source": [
    "We will define our symbols in such a way that the positive $t$ is assumed and Sympy will do the math correctly."
   ]
  },
  {
   "cell_type": "code",
   "execution_count": 2,
   "metadata": {},
   "outputs": [],
   "source": [
    "A, t, omega = sympy.symbols('A, t, omega', positive=True)\n",
    "s = sympy.Symbol('s')"
   ]
  },
  {
   "cell_type": "markdown",
   "metadata": {},
   "source": [
    "So we can define our input like this and get the same Laplace transform as in our table of standard transforms:"
   ]
  },
  {
   "cell_type": "code",
   "execution_count": 3,
   "metadata": {},
   "outputs": [],
   "source": [
    "usin = A*sympy.sin(t*omega)"
   ]
  },
  {
   "cell_type": "code",
   "execution_count": 4,
   "metadata": {},
   "outputs": [
    {
     "data": {
      "image/png": "[encoded data removed]",
      "text/latex": [
       "$\\displaystyle \\frac{A \\omega}{\\omega^{2} + s^{2}}$"
      ],
      "text/plain": [
       "  A⋅ω  \n",
       "───────\n",
       " 2    2\n",
       "ω  + s "
      ]
     },
     "execution_count": 4,
     "metadata": {},
     "output_type": "execute_result"
    }
   ],
   "source": [
    "usin_s = sympy.laplace_transform(usin, t, s, noconds=True)\n",
    "usin_s"
   ]
  },
  {
   "cell_type": "markdown",
   "metadata": {},
   "source": [
    "## First order \n",
    "Let's explore how first order systems respond to this kind of input:"
   ]
  },
  {
   "cell_type": "code",
   "execution_count": 5,
   "metadata": {},
   "outputs": [],
   "source": [
    "K, tau = sympy.symbols('K, tau', positive=True)"
   ]
  },
  {
   "cell_type": "code",
   "execution_count": 6,
   "metadata": {},
   "outputs": [],
   "source": [
    "G = K/(tau*s + 1)"
   ]
  },
  {
   "cell_type": "code",
   "execution_count": 7,
   "metadata": {},
   "outputs": [],
   "source": [
    "y = G*usin_s"
   ]
  },
  {
   "cell_type": "code",
   "execution_count": 8,
   "metadata": {},
   "outputs": [
    {
     "data": {
      "image/png": "[encoded data removed]",
      "text/latex": [
       "$\\displaystyle \\frac{A K \\left(- \\omega \\tau e^{\\frac{t}{\\tau}} \\cos{\\left(\\omega t \\right)} + \\omega \\tau + e^{\\frac{t}{\\tau}} \\sin{\\left(\\omega t \\right)}\\right) e^{- \\frac{t}{\\tau}}}{\\omega^{2} \\tau^{2} + 1}$"
      ],
      "text/plain": [
       "    ⎛       t                   t         ⎞  -t \n",
       "    ⎜       ─                   ─         ⎟  ───\n",
       "    ⎜       τ                   τ         ⎟   τ \n",
       "A⋅K⋅⎝- ω⋅τ⋅ℯ ⋅cos(ω⋅t) + ω⋅τ + ℯ ⋅sin(ω⋅t)⎠⋅ℯ   \n",
       "────────────────────────────────────────────────\n",
       "                    2  2                        \n",
       "                   ω ⋅τ  + 1                    "
      ]
     },
     "execution_count": 8,
     "metadata": {},
     "output_type": "execute_result"
    }
   ],
   "source": [
    "yt = sympy.inverse_laplace_transform(y, s, t)\n",
    "yt"
   ]
  },
  {
   "cell_type": "code",
   "execution_count": 9,
   "metadata": {},
   "outputs": [
    {
     "data": {
      "image/png": "[encoded data removed]",
      "text/latex": [
       "$\\displaystyle - \\frac{A K \\omega \\tau e^{\\frac{t}{\\tau}} \\cos{\\left(\\omega t \\right)}}{\\omega^{2} \\tau^{2} e^{\\frac{t}{\\tau}} + e^{\\frac{t}{\\tau}}} + \\frac{A K \\omega \\tau}{\\omega^{2} \\tau^{2} e^{\\frac{t}{\\tau}} + e^{\\frac{t}{\\tau}}} + \\frac{A K e^{\\frac{t}{\\tau}} \\sin{\\left(\\omega t \\right)}}{\\omega^{2} \\tau^{2} e^{\\frac{t}{\\tau}} + e^{\\frac{t}{\\tau}}}$"
      ],
      "text/plain": [
       "           t                                 t         \n",
       "           ─                                 ─         \n",
       "           τ                                 τ         \n",
       "  A⋅K⋅ω⋅τ⋅ℯ ⋅cos(ω⋅t)      A⋅K⋅ω⋅τ      A⋅K⋅ℯ ⋅sin(ω⋅t)\n",
       "- ─────────────────── + ───────────── + ───────────────\n",
       "            t    t             t    t           t    t \n",
       "            ─    ─             ─    ─           ─    ─ \n",
       "      2  2  τ    τ       2  2  τ    τ     2  2  τ    τ \n",
       "     ω ⋅τ ⋅ℯ  + ℯ       ω ⋅τ ⋅ℯ  + ℯ     ω ⋅τ ⋅ℯ  + ℯ  "
      ]
     },
     "execution_count": 9,
     "metadata": {},
     "output_type": "execute_result"
    }
   ],
   "source": [
    "yt = yt.simplify().expand()\n",
    "yt"
   ]
  },
  {
   "cell_type": "code",
   "execution_count": 10,
   "metadata": {},
   "outputs": [],
   "source": [
    "def response(omega_, A_, tau_, K_):\n",
    "    sympy.plot(usin.subs({omega: omega_, A: A_}), \n",
    "               yt.subs({A: A_, tau: tau_, K: K_, omega: omega_}), \n",
    "               (t, 0, 30), ylim=(-2, 2))"
   ]
  },
  {
   "cell_type": "code",
   "execution_count": 11,
   "metadata": {},
   "outputs": [],
   "source": [
    "from ipywidgets import interact"
   ]
  },
  {
   "cell_type": "code",
   "execution_count": 12,
   "metadata": {},
   "outputs": [
    {
     "data": {
      "application/vnd.jupyter.widget-view+json": {
       "model_id": "9d4878117ee7488298230ac83b7bd97f",
       "version_major": 2,
       "version_minor": 0
      },
      "text/plain": [
       "interactive(children=(FloatSlider(value=5.05, description='omega_', max=10.0, min=0.1), FloatSlider(value=1.05…"
      ]
     },
     "metadata": {},
     "output_type": "display_data"
    },
    {
     "data": {
      "text/plain": [
       "<function __main__.response(omega_, A_, tau_, K_)>"
      ]
     },
     "execution_count": 12,
     "metadata": {},
     "output_type": "execute_result"
    }
   ],
   "source": [
    "interact(response, \n",
    "         omega_=(0.1, 10.), \n",
    "         A_=(0.1, 2.), \n",
    "         tau_=(0.1, 10.), \n",
    "         K_=(-0.1, 2.))"
   ]
  },
  {
   "cell_type": "markdown",
   "metadata": {},
   "source": [
    "We see the response is eventually sinusoidal."
   ]
  },
  {
   "cell_type": "markdown",
   "metadata": {},
   "source": [
    "Second order sinusoidal response\n",
    "----------------"
   ]
  },
  {
   "cell_type": "code",
   "execution_count": 13,
   "metadata": {},
   "outputs": [],
   "source": [
    "zeta = sympy.Symbol('zeta', positive=True)"
   ]
  },
  {
   "cell_type": "code",
   "execution_count": 14,
   "metadata": {},
   "outputs": [
    {
     "data": {
      "image/png": "[encoded data removed]",
      "text/latex": [
       "$\\displaystyle \\frac{K}{s^{2} \\tau^{2} + 2 s \\tau \\zeta + 1}$"
      ],
      "text/plain": [
       "         K         \n",
       "───────────────────\n",
       " 2  2              \n",
       "s ⋅τ  + 2⋅s⋅τ⋅ζ + 1"
      ]
     },
     "execution_count": 14,
     "metadata": {},
     "output_type": "execute_result"
    }
   ],
   "source": [
    "G2 = K/(tau**2*s**2 + 2*tau*zeta*s + 1)\n",
    "G2"
   ]
  },
  {
   "cell_type": "markdown",
   "metadata": {},
   "source": [
    "Sympy can calculate this response analytically.\n",
    "\n",
    "**Warning:** This next cell takes quite a long time."
   ]
  },
  {
   "cell_type": "code",
   "execution_count": null,
   "metadata": {},
   "outputs": [],
   "source": [
    "yt = sympy.inverse_laplace_transform(G2*usin_s, s, t)"
   ]
  },
  {
   "cell_type": "code",
   "execution_count": null,
   "metadata": {},
   "outputs": [],
   "source": [
    "def response(omega_, A_, K_, tau_, zeta_):\n",
    "    sympy.plot(usin.subs({omega: omega_, A: A_}), \n",
    "               yt.subs({A: A_, tau: tau_, K: K_, zeta: zeta_, omega: omega_}), \n",
    "               (t, 0, 20), ylim=(-2, 2))"
   ]
  },
  {
   "cell_type": "code",
   "execution_count": null,
   "metadata": {},
   "outputs": [],
   "source": [
    "interact(response, \n",
    "         omega_=(0.1, 10.), \n",
    "         A_=(0.1, 2.), \n",
    "         tau_=(0.1, 10.), \n",
    "         K_=(-0.1, 2.),\n",
    "         zeta_=(0.1, 1.2))"
   ]
  },
  {
   "cell_type": "markdown",
   "metadata": {},
   "source": [
    "Again we see that the response is eventually sinusoidal, with a longer transient. Unlike the first order system, there are frequencies where the output is larger than the input when the system is underdamped. This is known as a harmonic response:"
   ]
  },
  {
   "cell_type": "code",
   "execution_count": null,
   "metadata": {},
   "outputs": [],
   "source": [
    "response(0.5, 1, 1, 1.1, 0.4)"
   ]
  },
  {
   "cell_type": "markdown",
   "metadata": {},
   "source": [
    "## Amplitude over frequency"
   ]
  },
  {
   "cell_type": "markdown",
   "metadata": {},
   "source": [
    "It can be shown (unfortunately SymPy is not quite up to the task) that for first order processes, the eventual magnitude of the sinusoidal responses are as follows:\n",
    "\n",
    "<table width=\"100%\">\n",
    "<tr><td>First order processes</td><td>$$\\frac{KA}{\\sqrt{\\omega^2 \\tau^2 + 1}}$$</td></tr>\n",
    "<tr><td>Second order processes</td><td>$$\\frac{KA}{\\sqrt{(1 - \\omega^2 \\tau^2)^2 + (2\\zeta\\omega\\tau)^2}}$$</td></tr>"
   ]
  },
  {
   "cell_type": "markdown",
   "metadata": {},
   "source": [
    "It is useful to plot the normalised amplitude ratio (the above amplitudes divided by $KA$) of the two systems as a function of frequency:"
   ]
  },
  {
   "cell_type": "code",
   "execution_count": null,
   "metadata": {},
   "outputs": [],
   "source": [
    "firstorder = 1/sympy.sqrt(omega**2*tau**2 + 1)\n",
    "secondorder = 1/sympy.sqrt((1 - omega**2*tau**2)**2 + (2*zeta*omega*tau)**2)"
   ]
  },
  {
   "cell_type": "code",
   "execution_count": null,
   "metadata": {},
   "outputs": [],
   "source": [
    "def frequencyplot(tau_, zeta_):\n",
    "    sympy.plot(firstorder.subs({tau: tau_}), \n",
    "               secondorder.subs({tau: tau_, zeta: zeta_}), \n",
    "               (omega, 0.1, 10), \n",
    "               xscale='log',\n",
    "              )"
   ]
  },
  {
   "cell_type": "code",
   "execution_count": null,
   "metadata": {},
   "outputs": [],
   "source": [
    "interact(frequencyplot, tau_=(0.01, 4), zeta_=(0.1, 1.2))"
   ]
  },
  {
   "cell_type": "markdown",
   "metadata": {},
   "source": [
    "It is clear that the value of $\\tau$ determines the frequency of the peak in the second order plot. This peak is known as the \"harmonic nose\" and is only larger than 1 when $0<\\zeta<0.7$."
   ]
  },
  {
   "cell_type": "code",
   "execution_count": null,
   "metadata": {},
   "outputs": [],
   "source": [
    "frequencyplot(1, 0.7)"
   ]
  },
  {
   "cell_type": "code",
   "execution_count": null,
   "metadata": {},
   "outputs": [],
   "source": [
    "frequencyplot(1, 0.6)"
   ]
  }
 ],
 "metadata": {
  "anaconda-cloud": {},
  "kernelspec": {
   "display_name": "Python 3",
   "language": "python",
   "name": "python3"
  },
  "language_info": {
   "codemirror_mode": {
    "name": "ipython",
    "version": 3
   },
   "file_extension": ".py",
   "mimetype": "text/x-python",
   "name": "python",
   "nbconvert_exporter": "python",
   "pygments_lexer": "ipython3",
   "version": "3.7.7"
  }
 },
 "nbformat": 4,
 "nbformat_minor": 4
}
