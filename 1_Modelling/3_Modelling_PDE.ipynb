{
 "cells": [
  {
   "cell_type": "markdown",
   "metadata": {},
   "source": [
    "# Partial Differential Equations\n",
    "\n",
    "So far in the course we have only dealt with lumped parameter examples, that is where we assume that the variables are only functions of time, $f(t)$. Lumped parameter models are very useful in describing systems but they have to sacrifice accuracy. This is the case when perfect mixing is assumed or a constant temperature for a cooling jacket. Now we will look at an example where the variables are functions of time and space, $f(t,z)$. \n",
    "\n",
    "### Example:\n",
    "![](PDEpipe.png)\n",
    "\n",
    "Here we look at the flow of a compressible liquid through a pipe that has both molar diffusion and a chemical reaction. We assume that there are no radial gradients. The cross sectional area of the pipe is given as $A$ ($m^2$). In order to write a balance for species A over the length of the pipe we have to take into account both position ($z$) and time ($t$). We will look at the section $dz$ as out system and we will conduct a balance over the system boundaries. \n",
    "\n",
    "The chemical reaction is assumed to be first order and is given by:\n",
    "\n",
    "$$ R = kC_A $$\n",
    "\n",
    "Then the change is concentration of A due to the reaction is given by:\n",
    "\n",
    "$$ -kC_A A dz $$\n",
    "\n",
    "Fick's law is used to account for the molar flow due to diffusion: \n",
    "\n",
    "$$ N_A = -D_A \\frac{dC_A}{dz} $$\n",
    "\n",
    "$N_A = {mol_A}/{s~ m^2}$\n",
    "\n",
    "The inlet to the system is given by the sum of the bulk flow and diffusion:\n",
    "\n",
    "$$ v(t,z)C_A(t,z)A + AN_A $$\n",
    "\n",
    "The outlet of the system now has to be approximated by assuming a linear extrapolation from $z$ to $z + dz$. This is done with a first order Taylor series expansion. The smaller $dz$ become the better the approximation.\n",
    "\n",
    "\n",
    "![](taylor1.png)\n",
    "\n",
    "$$f(z) \\approx f(z_r) + \\dfrac{d}{dz}f(z_r) \\big(z - z_r\\big)$$\n",
    "\n",
    "Then it follows that the outlet is written by:\n",
    "$$ v C_A A + AN_A + \\frac{d}{dz}\\big(v C_AA + AN_A\\big)(z + dz - z) $$\n",
    "\n",
    "Finally the accumulation term is given by:\n",
    "\n",
    "$$ \\frac{d}{dt}C_A A dz $$\n",
    "\n",
    "Now if we combine all these equations we are able to describe the conservation of species A for time and position. But it can use some simplification.\n",
    "\n",
    "$$ \\frac{d}{dt}C_A A dz = v C_A A + AN_A - \\big(v C_A A + AN_A + \\frac{d}{dz}(v C_AA + AN_A)dz\\big) - kC_A A dz $$\n",
    "\n",
    "Subtracting like terms and dividing through by $dz$:\n",
    "\n",
    "$$ \\frac{d}{dt}C_A A  = - \\frac{d}{dz}\\big(v C_AA + AN_A\\big) - kC_A A$$\n",
    "\n",
    "Substituting for $N_A$ and dividing through by A gives:\n",
    "\n",
    "$$  \\frac{d}{dz}(D_A \\frac{dC_A}{dz}) = \\frac{d}{dt}C_A + \\frac{d}{dz}(v C_A ) + kC_A$$\n",
    "\n",
    "And finally solving for the diffusion term gives us:\n",
    "\n",
    "$$  D_A \\frac{d^2C_A}{dz^2} = \\frac{d}{dt}C_A + \\frac{d}{dz}(v C_A ) + kC_A$$\n",
    "\n",
    "The diffusion term is a second order term."
   ]
  },
  {
   "cell_type": "markdown",
   "metadata": {},
   "source": [
    "Now to try this using Sympy. It is a symbolic math model in python, that can help us to deal with complex equations and operations."
   ]
  },
  {
   "cell_type": "code",
   "execution_count": 2,
   "metadata": {},
   "outputs": [],
   "source": [
    "import sympy\n",
    "sympy.init_printing()"
   ]
  },
  {
   "cell_type": "code",
   "execution_count": 3,
   "metadata": {},
   "outputs": [],
   "source": [
    "k,Na,Da,z,t,A,dz = sympy.symbols('k,N_A,D_A,z,t,A,dz') \n",
    "Ca = sympy.Function('C_A')(t,z)\n",
    "v = sympy.Function('v')(t,z)"
   ]
  },
  {
   "cell_type": "code",
   "execution_count": 4,
   "metadata": {},
   "outputs": [],
   "source": [
    "reaction = -k*Ca*A*dz\n",
    "ficks = -Da * Ca.diff(z)\n",
    "inlet = v*Ca*A + ficks*A\n",
    "outlet = inlet + inlet.diff(z)*dz\n",
    "accumulation = A*Ca.diff(t)*dz"
   ]
  },
  {
   "cell_type": "code",
   "execution_count": 5,
   "metadata": {},
   "outputs": [
    {
     "data": {
      "image/png": "[encoded data removed]",
      "text/latex": [
       "$\\displaystyle - A dz k \\operatorname{C_{A}}{\\left(t,z \\right)} - A dz \\frac{\\partial}{\\partial t} \\operatorname{C_{A}}{\\left(t,z \\right)} - dz \\left(- A D_{A} \\frac{\\partial^{2}}{\\partial z^{2}} \\operatorname{C_{A}}{\\left(t,z \\right)} + A \\operatorname{C_{A}}{\\left(t,z \\right)} \\frac{\\partial}{\\partial z} v{\\left(t,z \\right)} + A v{\\left(t,z \\right)} \\frac{\\partial}{\\partial z} \\operatorname{C_{A}}{\\left(t,z \\right)}\\right)$"
      ],
      "text/plain": [
       "                                            ⎛          2                      \n",
       "                         ∂                  ⎜         ∂                       \n",
       "-A⋅dz⋅k⋅C_A(t, z) - A⋅dz⋅──(C_A(t, z)) - dz⋅⎜- A⋅D_A⋅───(C_A(t, z)) + A⋅C_A(t,\n",
       "                         ∂t                 ⎜          2                      \n",
       "                                            ⎝        ∂z                       \n",
       "\n",
       "                                         ⎞\n",
       "    ∂                       ∂            ⎟\n",
       " z)⋅──(v(t, z)) + A⋅v(t, z)⋅──(C_A(t, z))⎟\n",
       "    ∂z                      ∂z           ⎟\n",
       "                                         ⎠"
      ]
     },
     "execution_count": 5,
     "metadata": {},
     "output_type": "execute_result"
    }
   ],
   "source": [
    "eq = ((inlet - outlet + reaction) - accumulation)\n",
    "eq"
   ]
  },
  {
   "cell_type": "code",
   "execution_count": 6,
   "metadata": {},
   "outputs": [
    {
     "data": {
      "image/png": "[encoded data removed]",
      "text/latex": [
       "$\\displaystyle \\frac{- A dz k \\operatorname{C_{A}}{\\left(t,z \\right)} - A dz \\frac{\\partial}{\\partial t} \\operatorname{C_{A}}{\\left(t,z \\right)} - dz \\left(- A D_{A} \\frac{\\partial^{2}}{\\partial z^{2}} \\operatorname{C_{A}}{\\left(t,z \\right)} + A \\operatorname{C_{A}}{\\left(t,z \\right)} \\frac{\\partial}{\\partial z} v{\\left(t,z \\right)} + A v{\\left(t,z \\right)} \\frac{\\partial}{\\partial z} \\operatorname{C_{A}}{\\left(t,z \\right)}\\right)}{A dz}$"
      ],
      "text/plain": [
       "                                            ⎛          2                      \n",
       "                         ∂                  ⎜         ∂                       \n",
       "-A⋅dz⋅k⋅C_A(t, z) - A⋅dz⋅──(C_A(t, z)) - dz⋅⎜- A⋅D_A⋅───(C_A(t, z)) + A⋅C_A(t,\n",
       "                         ∂t                 ⎜          2                      \n",
       "                                            ⎝        ∂z                       \n",
       "──────────────────────────────────────────────────────────────────────────────\n",
       "                                                          A⋅dz                \n",
       "\n",
       "                                         ⎞\n",
       "    ∂                       ∂            ⎟\n",
       " z)⋅──(v(t, z)) + A⋅v(t, z)⋅──(C_A(t, z))⎟\n",
       "    ∂z                      ∂z           ⎟\n",
       "                                         ⎠\n",
       "──────────────────────────────────────────\n",
       "                                          "
      ]
     },
     "execution_count": 6,
     "metadata": {},
     "output_type": "execute_result"
    }
   ],
   "source": [
    "eq1 = eq/(A*dz)\n",
    "eq1"
   ]
  },
  {
   "cell_type": "code",
   "execution_count": 7,
   "metadata": {},
   "outputs": [
    {
     "data": {
      "image/png": "[encoded data removed]",
      "text/latex": [
       "$\\displaystyle D_{A} \\frac{\\partial^{2}}{\\partial z^{2}} \\operatorname{C_{A}}{\\left(t,z \\right)} - k \\operatorname{C_{A}}{\\left(t,z \\right)} - \\operatorname{C_{A}}{\\left(t,z \\right)} \\frac{\\partial}{\\partial z} v{\\left(t,z \\right)} - v{\\left(t,z \\right)} \\frac{\\partial}{\\partial z} \\operatorname{C_{A}}{\\left(t,z \\right)} - \\frac{\\partial}{\\partial t} \\operatorname{C_{A}}{\\left(t,z \\right)}$"
      ],
      "text/plain": [
       "      2                                                                       \n",
       "     ∂                                       ∂                     ∂          \n",
       "D_A⋅───(C_A(t, z)) - k⋅C_A(t, z) - C_A(t, z)⋅──(v(t, z)) - v(t, z)⋅──(C_A(t, z\n",
       "      2                                      ∂z                    ∂z         \n",
       "    ∂z                                                                        \n",
       "\n",
       "                  \n",
       "     ∂            \n",
       ")) - ──(C_A(t, z))\n",
       "     ∂t           \n",
       "                  "
      ]
     },
     "execution_count": 7,
     "metadata": {},
     "output_type": "execute_result"
    }
   ],
   "source": [
    "eq1.simplify()"
   ]
  },
  {
   "cell_type": "code",
   "execution_count": null,
   "metadata": {},
   "outputs": [],
   "source": []
  }
 ],
 "metadata": {
  "kernelspec": {
   "display_name": "Python 3",
   "language": "python",
   "name": "python3"
  },
  "language_info": {
   "codemirror_mode": {
    "name": "ipython",
    "version": 3
   },
   "file_extension": ".py",
   "mimetype": "text/x-python",
   "name": "python",
   "nbconvert_exporter": "python",
   "pygments_lexer": "ipython3",
   "version": "3.7.7"
  }
 },
 "nbformat": 4,
 "nbformat_minor": 4
}
