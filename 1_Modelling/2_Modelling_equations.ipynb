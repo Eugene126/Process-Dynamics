{
 "cells": [
  {
   "cell_type": "markdown",
   "metadata": {},
   "source": [
    "## Process variables\n",
    "\n",
    "\n",
    "<img src=\"level.png\" width=\"400\" />\n",
    "\n",
    "\n",
    "#### Variables\n",
    "\n",
    "##### Controlled variable: Level (h)\n",
    "##### Manipulated variable: Valve opening (F)\n",
    "##### Load variable (disturbance): Inlet flow rate F\n",
    "##### Setpoint variable: Height $h^{set}$"
   ]
  },
  {
   "cell_type": "markdown",
   "metadata": {},
   "source": [
    "## State variables and equations\n",
    "\n",
    "The fundamental equations describing a process are **mass**, **energy** and **momentum**. These are known as state equations. The parameters that are used in these equations are variables like: density, concentration, flow rate, pressure,temperature and speed. These are all state variables. Equations that you will use to describe the states of systems include the conservation laws: \n",
    "\n",
    "* Mass\n",
    "* Energy\n",
    "* Momentum.\n",
    "\n",
    "However, you will also be required to identify relationships between systems or species. Equations that will be used for this include:\n",
    "\n",
    "* Transport equations\n",
    "* Phase equilibrium\n",
    "* Chemical equilibrium\n",
    "* Equations of state\n",
    "* Reaction kinetics\n",
    "\n",
    "Thus far we have only dealt with equations relation to mass. Much like mass, energy always has to be accounted for and the conservation equation for energy follows:\n",
    "\n",
    "Conservation of energy:\n",
    "\n",
    "$$ Accumulation = In - Out + Heat + Work $$\n",
    "\n",
    "Heat is defined as energy added to the system from the surroundings. Work is defined as the energy done on the system from the surroundings. \n",
    "\n",
    "The total energy balance of a system is then the sum of the internal energy, kinetic energy and potential energy:\n",
    "\n",
    "$$U_{total} = U_{int} + U_{kinetic} + U_{potential}$$\n",
    "\n",
    "We then make two assumptions:\n",
    "1. The changes in potential energy and kinetic energy can be neglected since they are small compared to the internal energy.\n",
    "2. The net rate of work done can be neglected since it is small compared to the convection of energy through the system and the rate of heat transfer.\n",
    "\n",
    "This lead to the simplified energy balance:\n",
    "\n",
    "$$ \\frac{dU_{int}}{dt} = \\hat{H}_{in}w_{in} - \\hat{H}_{out}w_{out} + Q $$\n",
    "\n",
    "$U_{int}$ is the internal energy, $\\hat{H}$ is the enthalpy per unit mass and $w$ is the mass flowrate.\n",
    "\n",
    "This can be further simplified for a liquids at low to moderate pressures and solids, the internal energy can be approximated to the enthalpy:\n",
    "\n",
    "$$ dU_{int} = d\\hat{H} = C_pdT $$\n",
    "\n",
    "Where $C_p$ is the heat capacity at constant pressure.\n",
    "\n",
    "(A review of thermodynamics concepts is given in Appendix C)"
   ]
  },
  {
   "cell_type": "markdown",
   "metadata": {},
   "source": [
    "# CSTR system\n",
    "\n",
    "This notebook explores solutions to the system discussed in Seborg, Edgar, Melichamp & Doyle \"Process Dynamics and Control\" (3rd Ed).\n",
    "\n",
    "![CSTR](cstr.png)"
   ]
  },
  {
   "cell_type": "markdown",
   "metadata": {},
   "source": [
    "A Continuous Stirrer-Tank Reactor is widely used in a variety of industries and it incorporates many aspects of other reactors. In this example we have liquid phase reactor where species A reacts irreversible to form B. We assume the reaction rate to be first order. \n",
    "\n",
    "$$A~~ -> B$$\n",
    "$$r = kc_A$$\n",
    "\n",
    "The reaction rate constant is a function of temperature and is given by the Arrhenius equation:\n",
    "\n",
    "$$k = k_0 exp{\\frac{-E}{RT}}$$\n",
    "\n",
    "What is the difference between theoretical and empirical relations?\n",
    "\n",
    "If we take a mass balance over the reactor we will end up with:\n",
    "\n",
    "$$\\frac{d\\rho V}{dt} = \\rho q_i - \\rho q $$\n",
    "\n",
    "Since the level is controlled by the overflow there is no change in the volume, if we also assume the $\\rho$ is constant then the mass balance becomes:\n",
    "\n",
    "$$q_i = q$$\n",
    "\n",
    "Now to write an equation for the balance of species A:\n",
    "\n",
    "$$V\\frac{\\mathrm{d}c_A}{\\mathrm{d}t} = q(c_{Ai} - c_A) - V k c_A$$\n",
    "\n",
    "Now for the energy balance. Since the reaction is exothermic the energy produced from the reaction will have to be removed, this will be done by the cooling coil but first a few additional assumptions need to be made:\n",
    "\n",
    "* The thermal capacities of the tank wall and coil are negligible compared to that of the liquid in the tank.\n",
    "* The temperature of the coolant is uniform and does not change.\n",
    "* $Q = UA(T_c - T)$  is assumed to describe the heat transfer from the reactor to the coolant. \n",
    "* The heat of mixing generate from the inlet and the tank liquid is neglected since it is assume to be far smaller than the heat of reaction.\n",
    "* Shaft work and heat loses to the environment can be neglected.\n",
    "\n",
    "Now applying the conservation of energy to the system we can write:\n",
    "\n",
    "$$V\\rho C\\frac{\\mathrm{d}T}{\\mathrm{d}t} = wC(T_i - T) + (-\\Delta H_R) V k c_A + UA(T_c - T)$$\n",
    "\n",
    "\n",
    "## Model\n",
    "\\begin{align}\n",
    "k &= k_0\\exp\\left(\\frac{-E}{RT}\\right)\\\\\n",
    "w &=q\\rho \\\\\n",
    "V\\frac{\\mathrm{d}c_A}{\\mathrm{d}t} &= q(c_{Ai} - c_A) - V k c_A \\\\\n",
    "V\\rho C\\frac{\\mathrm{d}T}{\\mathrm{d}t} &= wC(T_i - T) + (-\\Delta H_R) V k c_A + UA(T_c - T) \n",
    "\\end{align}"
   ]
  },
  {
   "cell_type": "code",
   "execution_count": 1,
   "metadata": {},
   "outputs": [],
   "source": [
    "import numpy\n",
    "import scipy\n",
    "import scipy.optimize\n",
    "import scipy.integrate"
   ]
  },
  {
   "cell_type": "markdown",
   "metadata": {},
   "source": [
    "Parameter values from Table 2.3"
   ]
  },
  {
   "cell_type": "code",
   "execution_count": 2,
   "metadata": {},
   "outputs": [],
   "source": [
    "q = 100  # L/min\n",
    "cA_i = 1  # mol/L\n",
    "T_i = 350  # K \n",
    "V = 100  # L\n",
    "rho = 1000 # g/L\n",
    "C = 0.239 # J/(g K)\n",
    "Hr = -5e4  # J/(g K)\n",
    "E_over_R = 8750  # K\n",
    "k0 = 7.2e10  # 1/min\n",
    "UA = 5e4  # J/(min K)"
   ]
  },
  {
   "cell_type": "markdown",
   "metadata": {},
   "source": [
    "This is the intial value of the input $T_c$"
   ]
  },
  {
   "cell_type": "code",
   "execution_count": 3,
   "metadata": {},
   "outputs": [],
   "source": [
    "Tc = Tc0 = 300  # K"
   ]
  },
  {
   "cell_type": "markdown",
   "metadata": {},
   "source": [
    "These are the initial values of the states given in the question. Notice that these are not 100 % accurate. When we simulate using these values, we don't get a perfect straight line (derivatives equal to zero) as we should when using the steady state values."
   ]
  },
  {
   "cell_type": "code",
   "execution_count": 4,
   "metadata": {},
   "outputs": [],
   "source": [
    "cA0 = 0.5  # mol/L\n",
    "T0 = 350  # K "
   ]
  },
  {
   "cell_type": "markdown",
   "metadata": {},
   "source": [
    "We define the function to calculate the derivatives here."
   ]
  },
  {
   "cell_type": "code",
   "execution_count": 5,
   "metadata": {},
   "outputs": [],
   "source": [
    "def intsys(t, x):\n",
    "    cA, T = x\n",
    "    k = k0*numpy.exp(-E_over_R/T)\n",
    "    w = q*rho\n",
    "    dcAdt = q*(cA_i - cA)/V - k*cA\n",
    "    dTdt = 1/(V*rho*C)*(w*C*(T_i - T) - Hr*V*k*cA + UA*(Tc - T))\n",
    "    return dcAdt, dTdt"
   ]
  },
  {
   "cell_type": "code",
   "execution_count": 6,
   "metadata": {},
   "outputs": [],
   "source": [
    "x0 = [cA0, T0]"
   ]
  },
  {
   "cell_type": "markdown",
   "metadata": {},
   "source": [
    "Let's see what the derivatives look like at this \"steady state\""
   ]
  },
  {
   "cell_type": "code",
   "execution_count": 7,
   "metadata": {},
   "outputs": [
    {
     "data": {
      "text/plain": [
       "(3.40208612952253e-05, -0.007117334999003795)"
      ]
     },
     "execution_count": 7,
     "metadata": {},
     "output_type": "execute_result"
    }
   ],
   "source": [
    "intsys(0, x0)"
   ]
  },
  {
   "cell_type": "markdown",
   "metadata": {},
   "source": [
    "That doesn't seem very close to zero..."
   ]
  },
  {
   "cell_type": "markdown",
   "metadata": {},
   "source": [
    "Now, let's simulate"
   ]
  },
  {
   "cell_type": "code",
   "execution_count": 8,
   "metadata": {},
   "outputs": [],
   "source": [
    "import matplotlib.pyplot as plt\n",
    "%matplotlib inline"
   ]
  },
  {
   "cell_type": "code",
   "execution_count": 9,
   "metadata": {},
   "outputs": [],
   "source": [
    "tspan = (0, 10)\n",
    "t = numpy.linspace(*tspan, 1000)"
   ]
  },
  {
   "cell_type": "code",
   "execution_count": 10,
   "metadata": {},
   "outputs": [],
   "source": [
    "def simulate():\n",
    "    r = scipy.integrate.solve_ivp(intsys, tspan, x0, t_eval=t)\n",
    "    return r.y"
   ]
  },
  {
   "cell_type": "code",
   "execution_count": 11,
   "metadata": {},
   "outputs": [],
   "source": [
    "cA, T = simulate()"
   ]
  },
  {
   "cell_type": "code",
   "execution_count": 12,
   "metadata": {},
   "outputs": [
    {
     "data": {
      "image/png": "[encoded data removed]",
      "text/plain": [
       "<Figure size 432x288 with 1 Axes>"
      ]
     },
     "metadata": {
      "needs_background": "light"
     },
     "output_type": "display_data"
    }
   ],
   "source": [
    "plt.plot(t, T)\n",
    "plt.show()"
   ]
  },
  {
   "cell_type": "markdown",
   "metadata": {},
   "source": [
    "We see a significant deviation from the straight line we were expecting!"
   ]
  },
  {
   "cell_type": "markdown",
   "metadata": {},
   "source": [
    "## Solve for steady state\n",
    "Now, let's solve for a better initial value by setting the derivatives equal to zero"
   ]
  },
  {
   "cell_type": "code",
   "execution_count": 13,
   "metadata": {},
   "outputs": [],
   "source": [
    "def ss(x):\n",
    "    \"\"\" This wrapper function simply calls intsys with a zero time\"\"\"\n",
    "    return intsys(0, x)"
   ]
  },
  {
   "cell_type": "markdown",
   "metadata": {},
   "source": [
    "We use fsolve to solve for a new steady state"
   ]
  },
  {
   "cell_type": "code",
   "execution_count": 14,
   "metadata": {},
   "outputs": [
    {
     "name": "stdout",
     "output_type": "stream",
     "text": [
      "[  0.49991829 350.00552869]\n"
     ]
    }
   ],
   "source": [
    "x0 = scipy.optimize.fsolve(ss, x0)\n",
    "print (x0)"
   ]
  },
  {
   "cell_type": "markdown",
   "metadata": {},
   "source": [
    "Let's check that:"
   ]
  },
  {
   "cell_type": "code",
   "execution_count": 15,
   "metadata": {},
   "outputs": [
    {
     "data": {
      "text/plain": [
       "(3.7614356074300304e-13, -7.879222786077396e-11)"
      ]
     },
     "execution_count": 15,
     "metadata": {},
     "output_type": "execute_result"
    }
   ],
   "source": [
    "ss(x0)"
   ]
  },
  {
   "cell_type": "markdown",
   "metadata": {},
   "source": [
    "Much better, let's simulate:"
   ]
  },
  {
   "cell_type": "code",
   "execution_count": 16,
   "metadata": {},
   "outputs": [
    {
     "data": {
      "image/png": "[encoded data removed]",
      "text/plain": [
       "<Figure size 432x288 with 1 Axes>"
      ]
     },
     "metadata": {
      "needs_background": "light"
     },
     "output_type": "display_data"
    }
   ],
   "source": [
    "cA, T = simulate()\n",
    "plt.plot(t, T)\n",
    "plt.show()"
   ]
  },
  {
   "cell_type": "markdown",
   "metadata": {},
   "source": [
    "What happened there? It seems as though these equations are quite hard to balance perfectly at the steady state, since starting quite close to zero derivatives still gave some deviation toward the end. Nonlinear differential equations often exhibit this high sensitivity to the initial value.\n",
    "\n",
    "But look closely and you can see that the axis is strangely indicated. When we zoom out just a little the solution is more clear:"
   ]
  },
  {
   "cell_type": "code",
   "execution_count": 17,
   "metadata": {},
   "outputs": [
    {
     "data": {
      "image/png": "[encoded data removed]",
      "text/plain": [
       "<Figure size 432x288 with 1 Axes>"
      ]
     },
     "metadata": {
      "needs_background": "light"
     },
     "output_type": "display_data"
    }
   ],
   "source": [
    "cA, T = simulate()\n",
    "plt.plot(t, T)\n",
    "plt.ylim(349, 351)\n",
    "plt.show()"
   ]
  },
  {
   "cell_type": "markdown",
   "metadata": {},
   "source": [
    "I'd say that's good enough."
   ]
  },
  {
   "cell_type": "markdown",
   "metadata": {},
   "source": [
    "Now we are ready to reproduce the figure"
   ]
  },
  {
   "cell_type": "code",
   "execution_count": 18,
   "metadata": {},
   "outputs": [
    {
     "name": "stderr",
     "output_type": "stream",
     "text": [
      "C:\\Users\\reube\\Anaconda3\\lib\\site-packages\\ipykernel_launcher.py:6: RuntimeWarning: overflow encountered in double_scalars\n",
      "  \n"
     ]
    },
    {
     "data": {
      "image/png": "[encoded data removed]",
      "text/plain": [
       "<Figure size 504x576 with 2 Axes>"
      ]
     },
     "metadata": {
      "needs_background": "light"
     },
     "output_type": "display_data"
    }
   ],
   "source": [
    "fig, (axT, axcA) = plt.subplots(2, 1, figsize=(7, 8))\n",
    "for Tc in [290, 300, 305]:\n",
    "    cA, T = simulate()\n",
    "    axT.plot(t, T, label='{} K'.format(Tc))\n",
    "    axT.set_ylabel('Reactor temperature (K)')\n",
    "    axcA.plot(t, cA, label='{} K'.format(Tc))    \n",
    "    axcA.set_ylabel('Reactant A concentration (mol/L)')\n",
    "axcA.legend()\n",
    "plt.show()"
   ]
  },
  {
   "cell_type": "markdown",
   "metadata": {},
   "source": [
    "## Nonlinear behaviour\n",
    "\n",
    "Nonlinear differential equations like this can exhibit very strange behaviour. We may expect that increasing the cooling water temperature will always increase the reactor temperature, measured after a certain amount of time, but the oscillatory behaviour we see in the graphs above give us a clue that everything may not be as simple as it appears."
   ]
  },
  {
   "cell_type": "code",
   "execution_count": 19,
   "metadata": {},
   "outputs": [
    {
     "name": "stderr",
     "output_type": "stream",
     "text": [
      "C:\\Users\\reube\\Anaconda3\\lib\\site-packages\\ipykernel_launcher.py:6: RuntimeWarning: overflow encountered in double_scalars\n",
      "  \n"
     ]
    }
   ],
   "source": [
    "sol = scipy.integrate.solve_ivp(intsys, tspan, x0)"
   ]
  },
  {
   "cell_type": "code",
   "execution_count": 20,
   "metadata": {},
   "outputs": [
    {
     "name": "stderr",
     "output_type": "stream",
     "text": [
      "C:\\Users\\reube\\Anaconda3\\lib\\site-packages\\ipykernel_launcher.py:6: RuntimeWarning: overflow encountered in double_scalars\n",
      "  \n",
      "C:\\Users\\reube\\Anaconda3\\lib\\site-packages\\ipykernel_launcher.py:3: RuntimeWarning: overflow encountered in exp\n",
      "  This is separate from the ipykernel package so we can avoid doing imports until\n",
      "C:\\Users\\reube\\Anaconda3\\lib\\site-packages\\ipykernel_launcher.py:5: RuntimeWarning: overflow encountered in double_scalars\n",
      "  \"\"\"\n",
      "C:\\Users\\reube\\Anaconda3\\lib\\site-packages\\scipy\\integrate\\_ivp\\rk.py:110: RuntimeWarning: invalid value encountered in true_divide\n",
      "  return norm(self._estimate_error(K, h) / scale)\n"
     ]
    }
   ],
   "source": [
    "Tends = []\n",
    "Tcs = numpy.linspace(300, 310, 1000)\n",
    "for Tc in Tcs:\n",
    "    sol = scipy.integrate.solve_ivp(intsys, tspan, x0)\n",
    "    T = sol.y[-1]\n",
    "    Tends.append(T[-1])"
   ]
  },
  {
   "cell_type": "code",
   "execution_count": 21,
   "metadata": {},
   "outputs": [
    {
     "data": {
      "image/png": "[encoded data removed]",
      "text/plain": [
       "<Figure size 432x288 with 1 Axes>"
      ]
     },
     "metadata": {
      "needs_background": "light"
     },
     "output_type": "display_data"
    }
   ],
   "source": [
    "plt.plot(Tcs, Tends)\n",
    "plt.ylabel('Temperature after 10 minutes (K)')\n",
    "plt.xlabel('Cooling water step (K)')\n",
    "plt.show()"
   ]
  },
  {
   "cell_type": "markdown",
   "metadata": {},
   "source": [
    "We can see that there is often no easy explanation to system behavour like \"Making x bigger will make y bigger\". For nonlinear systems the answer to questions the direction of an effect is often very much \"it depends\""
   ]
  }
 ],
 "metadata": {
  "kernelspec": {
   "display_name": "Python 3",
   "language": "python",
   "name": "python3"
  },
  "language_info": {
   "codemirror_mode": {
    "name": "ipython",
    "version": 3
   },
   "file_extension": ".py",
   "mimetype": "text/x-python",
   "name": "python",
   "nbconvert_exporter": "python",
   "pygments_lexer": "ipython3",
   "version": "3.7.7"
  }
 },
 "nbformat": 4,
 "nbformat_minor": 4
}
