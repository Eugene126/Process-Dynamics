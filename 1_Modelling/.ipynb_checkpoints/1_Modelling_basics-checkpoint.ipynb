{
 "cells": [
  {
   "cell_type": "markdown",
   "metadata": {},
   "source": [
    "# Modelling basics\n",
    "\n",
    "\n",
    "### Process dynamics\n",
    "\n",
    "A key goal of this course is to teach you the ability to describe a physical system with a mathematical model. This will give  you a deeper understanding of the system though the ability to describe the time-dependent behavior of a system.\n",
    "\n",
    "### Process control\n",
    "\n",
    "Control follows on from understanding and being able to describe the systems dynamics. Control is a set of techniques that are used to eliminate or reduce the effects of input disturbances/changes on system outputs. \n",
    "\n",
    "We are largely interested in the relationship between the cause and effect. \n",
    "\n",
    "### Shower example:\n",
    "\n",
    "Think about yourself having a shower, you have a desired temperature and flow rate of the water in mind (set point). In order to achieve the desired temperature and flow rate you have the ability to change the valve opening of the hot and or cold tapes. Variables fall into one of two groups manipulated or controlled variables. When you open the valve of the hot tape you are not changing the temperature of the water but you are increasing the valve opening that causes the hot water flow rate to increase and finally this increases the temperature of the water out the shower head. Therefore the temperature and flow rate of the water cannot be changed directly and are thus controlled variables. The hot and cold valves are the variables that you have direct access to and are thus the manipulated variables.\n",
    "\n",
    "##  Conservation Laws\n",
    "\n",
    "Conservation of mass\n",
    "$$ Accumulation =  In - Out $$\n",
    "\n",
    "Conservation of component $i$\n",
    "$$ Accumulation_i = In_i - Out_i + Production_i $$"
   ]
  },
  {
   "cell_type": "markdown",
   "metadata": {},
   "source": [
    "#### Example: The Blending Process\n",
    "\n",
    "![](tank1.PNG)"
   ]
  },
  {
   "cell_type": "markdown",
   "metadata": {},
   "source": [
    "Applying the laws of conservation to this blending process we will be able to develop a model of the system. Using the conservation of mass and assuming that the densities of the components are equivalent the following equation is written:\n",
    "\n",
    "$$ ρ\\frac{dV}{dt} = w_1 + w_2 - w $$                         \n",
    "\n",
    "We are also able to write an equation for the conservation of component A in the system:\n",
    "\n",
    "$$ ρ\\frac{d(Vx)}{dt} = w_1x_1 + w_2x_2 - wx $$\n",
    "\n",
    "Since both $V$ and $x$ are functions of time we will now apply the chain rule to the accumulation term.\n",
    "\n",
    "$$ ρV\\frac{x}{dt} + xρ\\frac{V}{dt}= w_1x_1 + w_2x_2 - wx $$\n",
    "\n",
    "You will notice that the mass balance can be substituted in for $\\rho\\frac{dV}{dt}$. The equation can now me solved for $\\frac{dx}{dt}$:\n",
    "\n",
    "$$ ρV\\frac{x}{dt} + x(w_1 + w_2 - w)= w_1x_1 + w_2x_2 - wx $$\n",
    "\n",
    "$$\\frac{dx}{dt} = \\frac{1}{V\\rho}\\big(w_1(x_1 - x) + w_2(x_2-x)\\big)$$\n",
    "\n",
    "We now have two equations for this system:\n",
    "\n",
    "$$ ρ\\frac{dV}{dt} = w_1 + w_2 - w $$ \n",
    "$$\\frac{dx}{dt} = \\frac{1}{V\\rho}\\big(w_1(x_1 - x) + w_2(x_2-x)\\big)$$\n",
    "\n",
    "How does one know once you have enough equations to solve a system?"
   ]
  },
  {
   "cell_type": "markdown",
   "metadata": {},
   "source": [
    "## Degrees of freedom\n",
    "\n",
    "The degrees of freedom analysis is a vital step in the development of a model since it guides the modelling process. It gives information about the model equations, $N_E$ and their ability to correctly solve a system with a given number of variables, $N_V$. Using these two parameters one can calculate the degrees of freedom, $N_F$, using the following equation:\n",
    "\n",
    "$$ N_F = N_V - N_E $$\n",
    "\n",
    "\n",
    "$N_F = 0$ The process is a exactly specified.\n",
    "\n",
    "$N_F > 0$: The process is underspecified.\n",
    "\n",
    "$N_F < 0$: The process is overspecified.\n",
    "\n",
    "\n",
    "The goal when modelling a system is to achieve an $N_F = 0$ since this means that all the variable can be solved for utilising all the equations."
   ]
  },
  {
   "cell_type": "code",
   "execution_count": 1,
   "metadata": {},
   "outputs": [
    {
     "data": {
      "text/plain": [
       "5"
      ]
     },
     "execution_count": 1,
     "metadata": {},
     "output_type": "execute_result"
    }
   ],
   "source": [
    "# 1. ρ\n",
    "# 2.\n",
    "\n",
    "Nv = 7\n",
    "Ne = 2\n",
    "Nf = Nv - Ne\n",
    "Nf"
   ]
  },
  {
   "cell_type": "markdown",
   "metadata": {},
   "source": [
    "### Example 2.1:\n",
    "\n",
    "This is a blending tank that is assumed to have perfect mixing and the volume and densities are assumes to be constant.\n",
    "![](tank1.PNG)\n",
    "\n",
    "![](example21.PNG)"
   ]
  },
  {
   "cell_type": "markdown",
   "metadata": {},
   "source": [
    "### a) "
   ]
  },
  {
   "cell_type": "code",
   "execution_count": 2,
   "metadata": {},
   "outputs": [],
   "source": [
    "w1 = 500 #kg/min\n",
    "w2 = 200\n",
    "x1 = 0.4 #kg A/kg\n",
    "x2 = 0.75"
   ]
  },
  {
   "cell_type": "markdown",
   "metadata": {},
   "source": [
    "Since we are at steady state conditions we can assume that the accumulation terms are zero, therefore:\n",
    "\n",
    "$$ 0 = \\bar{w_1} + \\bar{w_2} - \\bar{w} $$\n",
    "$$ 0 = \\frac{1}{Vρ}\\big(\\bar{w_1}(\\bar{x_1} - \\bar{x}) + \\bar{w_2}(\\bar{x_2} - \\bar{x})\\big)$$\n",
    "\n",
    "And with further manipulation we can solve for $\\bar{x}$:\n",
    "\n",
    "$$\\bar{x} = \\frac{\\bar{w_1}\\bar{x_1} + \\bar{w_2}\\bar{x_2}}{\\bar{w}} $$"
   ]
  },
  {
   "cell_type": "code",
   "execution_count": 3,
   "metadata": {},
   "outputs": [
    {
     "data": {
      "text/plain": [
       "0.5"
      ]
     },
     "execution_count": 3,
     "metadata": {},
     "output_type": "execute_result"
    }
   ],
   "source": [
    "w = w1 + w2\n",
    "x = (w1*x1 + w2*x2)/(w)\n",
    "x"
   ]
  },
  {
   "cell_type": "markdown",
   "metadata": {},
   "source": [
    "Simple enough"
   ]
  },
  {
   "cell_type": "markdown",
   "metadata": {},
   "source": [
    "### b)\n",
    "\n",
    "Since we are now assuming that the volume is constant we can write the balance for component A without the need for the chain rule:\n",
    "\n",
    "$$ ρV\\frac{d(x)}{dt} = w_1x_1 + w_2x_2 - wx $$\n",
    "\n",
    "Taking $wx$ to the LHS and dividing through by $w$ results in:\n",
    "\n",
    "\n",
    "$$ \\frac{ρV}{w}\\frac{d(x)}{dt} + x = \\frac{w_1x_1 + w_2x_2}{w} $$\n",
    "\n",
    "$\\tau$ is now substituted for $\\frac{ρV}{w}$ and is assumed to equal 3 min. The initial condition is $x(0) = 0.5$.\n",
    "\n",
    "$$ \\tau\\frac{d(x)}{dt} + x = \\frac{w_1x_1 + w_2x_2}{w} $$\n",
    "\n",
    "Now to solve for $x(t)$ it will require you to think back to Differential equations. However through the course of this module you will be taught a method to solve equations analytically without the need for evaluating complicated integrates. Thus the solution is: \n",
    "\n",
    "$$ x(t) = 0.5 e^{-t/3} + C(1 - e^{-t/3}) $$\n",
    "\n",
    "Where $C$ is the steady state value of $\\frac{\\bar{w_1}\\bar{x_1} + \\bar{w_2}\\bar{x_2}}{\\bar{w}}$"
   ]
  },
  {
   "cell_type": "code",
   "execution_count": 4,
   "metadata": {},
   "outputs": [],
   "source": [
    "import numpy as np\n",
    "from matplotlib import pyplot as plt\n",
    "%matplotlib inline"
   ]
  },
  {
   "cell_type": "code",
   "execution_count": 5,
   "metadata": {},
   "outputs": [],
   "source": [
    "\n",
    "def x(t):\n",
    "    return 0.5*np.exp(-t/3) + C*(1 - np.exp(-t/3))\n",
    "\n",
    "w1 = 400\n",
    "C = (w1*x1 + w2*x2)/(w1 + w2)\n",
    "\n",
    "t = np.linspace(0,25)\n",
    "\n",
    "X = x(t)"
   ]
  },
  {
   "cell_type": "code",
   "execution_count": 6,
   "metadata": {},
   "outputs": [
    {
     "data": {
      "image/png": "[encoded data removed]",
      "text/plain": [
       "<Figure size 432x288 with 1 Axes>"
      ]
     },
     "metadata": {
      "needs_background": "light"
     },
     "output_type": "display_data"
    }
   ],
   "source": [
    "plt.plot(t,X)\n",
    "plt.ylabel('x')\n",
    "plt.xlabel('Time (min)')\n",
    "plt.show()"
   ]
  },
  {
   "cell_type": "markdown",
   "metadata": {},
   "source": [
    "### e)"
   ]
  },
  {
   "cell_type": "code",
   "execution_count": 7,
   "metadata": {},
   "outputs": [
    {
     "data": {
      "image/png": "[encoded data removed]",
      "text/plain": [
       "<Figure size 432x288 with 1 Axes>"
      ]
     },
     "metadata": {
      "needs_background": "light"
     },
     "output_type": "display_data"
    }
   ],
   "source": [
    "Xoo = x(25)\n",
    "\n",
    "X_n = (X - 0.5)/(Xoo - 0.5)\n",
    "\n",
    "plt.plot(t, X_n)\n",
    "plt.ylabel('x(t) normalised')\n",
    "plt.xlabel('Time (min)')\n",
    "plt.show()"
   ]
  }
 ],
 "metadata": {
  "kernelspec": {
   "display_name": "Python 3",
   "language": "python",
   "name": "python3"
  },
  "language_info": {
   "codemirror_mode": {
    "name": "ipython",
    "version": 3
   },
   "file_extension": ".py",
   "mimetype": "text/x-python",
   "name": "python",
   "nbconvert_exporter": "python",
   "pygments_lexer": "ipython3",
   "version": "3.7.7"
  }
 },
 "nbformat": 4,
 "nbformat_minor": 4
}
